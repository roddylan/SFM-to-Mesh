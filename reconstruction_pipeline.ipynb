{
	"cells": [
		{
			"cell_type": "code",
			"execution_count": 1,
			"metadata": {},
			"outputs": [
				{
					"name": "stdout",
					"output_type": "stream",
					"text": [
						"Jupyter environment detected. Enabling Open3D WebVisualizer.\n",
						"[Open3D INFO] WebRTC GUI backend enabled.\n",
						"[Open3D INFO] WebRTCWindowSystem: HTTP handshake server disabled.\n"
					]
				}
			],
			"source": [
				"%reload_ext autoreload\n",
				"%autoreload 2\n",
				"from sfm import Reconstruction\n",
				"import open3d\n",
				"import matplotlib.pyplot as plt"
			]
		},
		{
			"cell_type": "markdown",
			"metadata": {},
			"source": [
				"# 1. Pointcloud setup and cleanup"
			]
		},
		{
			"cell_type": "code",
			"execution_count": 2,
			"metadata": {},
			"outputs": [],
			"source": [
				"src = r\"\" # CHANGE TO .ply FILE POSITION\n",
				"rec = Reconstruction(src)"
			]
		},
		{
			"cell_type": "code",
			"execution_count": 25,
			"metadata": {},
			"outputs": [
				{
					"name": "stdout",
					"output_type": "stream",
					"text": [
						"Showing self.pcd point cloud (default)\n"
					]
				}
			],
			"source": [
				"rec.show_pcd(name=\"initial point cloud\")"
			]
		},
		{
			"cell_type": "markdown",
			"metadata": {},
			"source": [
				"## 1.1 Cleanup (optional)\n",
				"Recommended if there is lots of noise in the point cloud"
			]
		},
		{
			"cell_type": "code",
			"execution_count": 4,
			"metadata": {},
			"outputs": [],
			"source": [
				"# Stacked approach (using both radius and statistical outlier removal; recommended)\n",
				"rpcd = rec.preproc(type=\"rad\", n_pts=12, rad=.15)[0]\n",
				"spcd = rec.preproc(pcd=rpcd, n_neigh=5, std_ratio=.25)[0]\n",
				"\n",
				"# Can do it separately too\n",
				"\n",
				"# Display Result\n",
				"rec.show_pcd(pcd=[spcd], name=\"pcd outlier removal\")"
			]
		},
		{
			"cell_type": "markdown",
			"metadata": {},
			"source": [
				"# 2. Surface Reconstruction\n",
				"2 options\n",
				"1. Ball Pivot Algorithm (recommended if theres lots of **background** noise / multiple surfaces; will work on any point cloud)\n",
				"2. Poisson Surface Reconstruction (recommended if low noise / single surface; higher quality result, less holes)"
			]
		},
		{
			"cell_type": "markdown",
			"metadata": {},
			"source": [
				"## 2.1 Ball Pivot Algorithm"
			]
		},
		{
			"cell_type": "code",
			"execution_count": 3,
			"metadata": {},
			"outputs": [],
			"source": [
				"# radius = 0.1227 for Viking\n",
				"mesh = rec.bpa()"
			]
		},
		{
			"cell_type": "markdown",
			"metadata": {},
			"source": [
				"## 2.2 PSR (Poisson Surface Reconstruction)\n",
				"**recommended**\\\n",
				"Resulting mesh usually higher quality, however more susceptible to noise.\\\n",
				"Less holes, especially for sparse plots."
			]
		},
		{
			"cell_type": "code",
			"execution_count": 5,
			"metadata": {},
			"outputs": [],
			"source": [
				"# higher depth = more detail, default = 8\n",
				"# scale = ratio b/w cube and sample's bounding cube, default = 1.25\n",
				"mesh = rec.poisson(depth=10, scale=1.1)"
			]
		},
		{
			"cell_type": "markdown",
			"metadata": {},
			"source": [
				"# 3. Output"
			]
		},
		{
			"cell_type": "code",
			"execution_count": 7,
			"metadata": {},
			"outputs": [],
			"source": [
				"out = \"\" # SET OUTPUT DESTINATION, OR LEAVE IT / CHANGE TO NONE (no output, will only display)\n",
				"rec.create(mesh=mesh, out=out)"
			]
		},
		{
			"cell_type": "code",
			"execution_count": 6,
			"metadata": {},
			"outputs": [],
			"source": [
				"rec.show_pcd(mesh, \"bpa\")"
			]
		}
	],
	"metadata": {
		"kernelspec": {
			"display_name": "venv",
			"language": "python",
			"name": "python3"
		},
		"language_info": {
			"codemirror_mode": {
				"name": "ipython",
				"version": 3
			},
			"file_extension": ".py",
			"mimetype": "text/x-python",
			"name": "python",
			"nbconvert_exporter": "python",
			"pygments_lexer": "ipython3",
			"version": "3.11.4"
		}
	},
	"nbformat": 4,
	"nbformat_minor": 2
}
