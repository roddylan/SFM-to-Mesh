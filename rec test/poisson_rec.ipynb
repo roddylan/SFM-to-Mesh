{
 "cells": [
  {
   "cell_type": "code",
   "execution_count": 1,
   "metadata": {},
   "outputs": [],
   "source": [
    "import numpy as np\n",
    "import open3d as o3d\n",
    "\n",
    "def display_inlier_outlier(cloud, ind):\n",
    "    inlier_cloud = cloud.select_by_index(ind)\n",
    "    outlier_cloud = cloud.select_by_index(ind, invert=True)\n",
    "\n",
    "    print(\"Showing outliers (red) and inliers (gray): \")\n",
    "    # outlier_cloud.paint_uniform_color([1, 0, 0])\n",
    "    inlier_cloud.paint_uniform_color([0.8, 0.8, 0.8])\n",
    "    # o3d.visualization.draw_geometries([inlier_cloud, outlier_cloud],\n",
    "    #                                   zoom=0.3412,\n",
    "    #                                   front=[0.4257, -0.2125, -0.8795],\n",
    "    #                                   lookat=[2.6172, 2.0475, 1.532],\n",
    "    #                                   up=[-0.0694, -0.9768, 0.2024])\n",
    "    o3d.visualization.draw_geometries([inlier_cloud],\n",
    "                                      zoom=0.3412,\n",
    "                                      front=[0.4257, -0.2125, -0.8795],\n",
    "                                      lookat=[2.6172, 2.0475, 1.532],\n",
    "                                      up=[-0.0694, -0.9768, 0.2024])\n",
    "    \n",
    "    return inlier_cloud\n",
    "\n",
    "\n",
    "\n",
    "old_name = f\"init.ply\"\n",
    "pcd = o3d.io.read_point_cloud(old_name)\n",
    "# og_cloud.colors = o3d.utility.Vector3dVector(rgb_t.astype(np.float) / 255.0)\n",
    "\n",
    "# o3d.visualization.draw_geometries([pcd])"
   ]
  },
  {
   "cell_type": "code",
   "execution_count": null,
   "metadata": {},
   "outputs": [],
   "source": [
    "o3d.visualization.draw_geometries([pcd])"
   ]
  },
  {
   "cell_type": "code",
   "execution_count": null,
   "metadata": {},
   "outputs": [],
   "source": [
    "# sz = .05\n",
    "sz = .05\n",
    "test=pcd.voxel_down_sample(sz)\n"
   ]
  },
  {
   "cell_type": "code",
   "execution_count": 2,
   "metadata": {},
   "outputs": [
    {
     "name": "stdout",
     "output_type": "stream",
     "text": [
      "\u001b[1;33m[Open3D WARNING] GLFW Error: Cocoa: Failed to find service port for display\u001b[0;m\n"
     ]
    },
    {
     "ename": "",
     "evalue": "",
     "output_type": "error",
     "traceback": [
      "\u001b[1;31mThe Kernel crashed while executing code in the current cell or a previous cell. \n",
      "\u001b[1;31mPlease review the code in the cell(s) to identify a possible cause of the failure. \n",
      "\u001b[1;31mClick <a href='https://aka.ms/vscodeJupyterKernelCrash'>here</a> for more info. \n",
      "\u001b[1;31mView Jupyter <a href='command:jupyter.viewOutput'>log</a> for further details."
     ]
    }
   ],
   "source": [
    "p_mesh = o3d.geometry.TriangleMesh.create_from_point_cloud_poisson(\n",
    "    pcd,\n",
    "    depth=10,\n",
    "    width=0,\n",
    "    scale=1.1,\n",
    "    linear_fit=False\n",
    ")[0]\n",
    "\n",
    "o3d.visualization.draw_geometries([p_mesh], window_name=\"poisson mesh (nhf)\")"
   ]
  },
  {
   "cell_type": "code",
   "execution_count": null,
   "metadata": {},
   "outputs": [],
   "source": [
    "bbox = pcd.get_axis_aligned_bounding_box()\n",
    "p_mesh_cropped = p_mesh.crop(bbox)\n"
   ]
  },
  {
   "cell_type": "code",
   "execution_count": null,
   "metadata": {},
   "outputs": [],
   "source": [
    "o3d.visualization.draw_geometries([p_mesh_cropped], window_name=\"cropped poisson mesh (nhf)\")"
   ]
  }
 ],
 "metadata": {
  "kernelspec": {
   "display_name": "venv",
   "language": "python",
   "name": "python3"
  },
  "language_info": {
   "codemirror_mode": {
    "name": "ipython",
    "version": 3
   },
   "file_extension": ".py",
   "mimetype": "text/x-python",
   "name": "python",
   "nbconvert_exporter": "python",
   "pygments_lexer": "ipython3",
   "version": "3.10.0"
  }
 },
 "nbformat": 4,
 "nbformat_minor": 2
}
