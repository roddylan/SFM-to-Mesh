{
 "cells": [
  {
   "cell_type": "code",
   "execution_count": 1,
   "metadata": {},
   "outputs": [],
   "source": [
    "import numpy as np\n",
    "import open3d as o3d\n",
    "\n",
    "def display_inlier_outlier(cloud, ind):\n",
    "    inlier_cloud = cloud.select_by_index(ind)\n",
    "    outlier_cloud = cloud.select_by_index(ind, invert=True)\n",
    "\n",
    "    print(\"Showing outliers (red) and inliers (gray): \")\n",
    "    # outlier_cloud.paint_uniform_color([1, 0, 0])\n",
    "    inlier_cloud.paint_uniform_color([0.8, 0.8, 0.8])\n",
    "    # o3d.visualization.draw_geometries([inlier_cloud, outlier_cloud],\n",
    "    #                                   zoom=0.3412,\n",
    "    #                                   front=[0.4257, -0.2125, -0.8795],\n",
    "    #                                   lookat=[2.6172, 2.0475, 1.532],\n",
    "    #                                   up=[-0.0694, -0.9768, 0.2024])\n",
    "    o3d.visualization.draw_geometries([inlier_cloud],\n",
    "                                      zoom=0.3412,\n",
    "                                      front=[0.4257, -0.2125, -0.8795],\n",
    "                                      lookat=[2.6172, 2.0475, 1.532],\n",
    "                                      up=[-0.0694, -0.9768, 0.2024])\n",
    "    \n",
    "    return inlier_cloud\n",
    "\n",
    "\n",
    "old_name = f\"lego.ply\"\n",
    "# old_name = f\"init.ply\"\n",
    "pcd = o3d.io.read_point_cloud(old_name)\n",
    "# og_cloud.colors = o3d.utility.Vector3dVector(rgb_t.astype(np.float) / 255.0)\n",
    "\n",
    "# o3d.visualization.draw_geometries([pcd])"
   ]
  },
  {
   "cell_type": "code",
   "execution_count": null,
   "metadata": {},
   "outputs": [],
   "source": [
    "# o3d.visualization.draw_geometries([test])\n",
    "o3d.visualization.draw_geometries([pcd])"
   ]
  },
  {
   "cell_type": "code",
   "execution_count": 2,
   "metadata": {},
   "outputs": [],
   "source": [
    "# sz = .05\n",
    "sz = .02\n",
    "test=pcd.voxel_down_sample(sz)\n"
   ]
  },
  {
   "cell_type": "code",
   "execution_count": 3,
   "metadata": {},
   "outputs": [
    {
     "name": "stdout",
     "output_type": "stream",
     "text": [
      "\u001b[1;33m[Open3D WARNING] GLFW Error: Cocoa: Failed to find service port for display\u001b[0;m\n"
     ]
    }
   ],
   "source": [
    "o3d.visualization.draw_geometries([test])"
   ]
  },
  {
   "cell_type": "code",
   "execution_count": 4,
   "metadata": {},
   "outputs": [],
   "source": [
    "# dist = pcd.compute_nearest_neighbor_distance()\n",
    "dist = test.compute_nearest_neighbor_distance()\n",
    "avg_dist = np.mean(dist)\n",
    "# radi = 3 * avg_dist\n",
    "radi = 1.5 * avg_dist\n",
    "radii = [radi*(i+1) for i in range(4)]\n",
    "\n",
    "# bpa_mesh = o3d.geometry.TriangleMesh.create_from_point_cloud_ball_pivoting(pcd, o3d.utility.DoubleVector(radii))\n",
    "bpa_mesh = o3d.geometry.TriangleMesh.create_from_point_cloud_ball_pivoting(test, o3d.utility.DoubleVector(radii))"
   ]
  },
  {
   "cell_type": "code",
   "execution_count": 5,
   "metadata": {},
   "outputs": [
    {
     "name": "stdout",
     "output_type": "stream",
     "text": [
      "\u001b[1;33m[Open3D WARNING] GLFW Error: Cocoa: Failed to find service port for display\u001b[0;m\n"
     ]
    }
   ],
   "source": [
    "o3d.visualization.draw_geometries([bpa_mesh], window_name=\"bpa temple (no hole filling)\")\n",
    "\n",
    "\n",
    "# o3d.t.geometry.TriangleMesh.to_legacy"
   ]
  },
  {
   "cell_type": "code",
   "execution_count": 8,
   "metadata": {},
   "outputs": [
    {
     "name": "stdout",
     "output_type": "stream",
     "text": [
      "\u001b[1;33m[Open3D WARNING] Ignoring attribute 'normals' for TensorMap with primary key 'indices'\u001b[0;m\n"
     ]
    }
   ],
   "source": [
    "# hole fill\n",
    "hf_mesh = o3d.t.geometry.TriangleMesh.from_legacy(bpa_mesh)\n",
    "filled = hf_mesh.fill_holes(hole_size=avg_dist).to_legacy()"
   ]
  },
  {
   "cell_type": "code",
   "execution_count": 7,
   "metadata": {},
   "outputs": [
    {
     "name": "stdout",
     "output_type": "stream",
     "text": [
      "\u001b[1;33m[Open3D WARNING] GLFW Error: Cocoa: Failed to find service port for display\u001b[0;m\n"
     ]
    }
   ],
   "source": [
    "o3d.visualization.draw_geometries([filled], window_name=\"bpa temple (hole filling)\")"
   ]
  }
 ],
 "metadata": {
  "kernelspec": {
   "display_name": "venv",
   "language": "python",
   "name": "python3"
  },
  "language_info": {
   "codemirror_mode": {
    "name": "ipython",
    "version": 3
   },
   "file_extension": ".py",
   "mimetype": "text/x-python",
   "name": "python",
   "nbconvert_exporter": "python",
   "pygments_lexer": "ipython3",
   "version": "3.10.0"
  }
 },
 "nbformat": 4,
 "nbformat_minor": 2
}
