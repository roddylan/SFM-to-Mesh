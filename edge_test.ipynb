{
 "cells": [
  {
   "cell_type": "code",
   "execution_count": 2,
   "metadata": {},
   "outputs": [
    {
     "name": "stdout",
     "output_type": "stream",
     "text": [
      "Jupyter environment detected. Enabling Open3D WebVisualizer.\n",
      "[Open3D INFO] WebRTC GUI backend enabled.\n",
      "[Open3D INFO] WebRTCWindowSystem: HTTP handshake server disabled.\n"
     ]
    }
   ],
   "source": [
    "from sfm import SFM\n",
    "import os, cv2\n",
    "import numpy as np\n",
    "import matplotlib.pyplot as plt"
   ]
  },
  {
   "cell_type": "code",
   "execution_count": 126,
   "metadata": {},
   "outputs": [],
   "source": [
    "src = 'datasets/Viking'\n",
    "detector = cv2.BRISK_create()"
   ]
  },
  {
   "cell_type": "code",
   "execution_count": 127,
   "metadata": {},
   "outputs": [
    {
     "name": "stdout",
     "output_type": "stream",
     "text": [
      "{0: 'datasets/Viking/00.jpg', 1: 'datasets/Viking/01.jpg', 2: 'datasets/Viking/02.jpg', 3: 'datasets/Viking/03.jpg', 4: 'datasets/Viking/04.jpg', 5: 'datasets/Viking/05.jpg', 6: 'datasets/Viking/06.jpg', 7: 'datasets/Viking/07.jpg', 8: 'datasets/Viking/08.jpg', 9: 'datasets/Viking/09.jpg', 10: 'datasets/Viking/10.jpg', 11: 'datasets/Viking/11.jpg', 12: 'datasets/Viking/12.jpg', 13: 'datasets/Viking/13.jpg', 14: 'datasets/Viking/14.jpg', 15: 'datasets/Viking/15.jpg', 16: 'datasets/Viking/16.jpg', 17: 'datasets/Viking/17.jpg', 18: 'datasets/Viking/18.jpg', 19: 'datasets/Viking/19.jpg', 20: 'datasets/Viking/20.jpg', 21: 'datasets/Viking/21.jpg', 22: 'datasets/Viking/22.jpg', 23: 'datasets/Viking/23.jpg', 24: 'datasets/Viking/24.jpg', 25: 'datasets/Viking/25.jpg', 26: 'datasets/Viking/26.jpg', 27: 'datasets/Viking/27.jpg', 28: 'datasets/Viking/28.jpg', 29: 'datasets/Viking/29.jpg', 30: 'datasets/Viking/30.jpg', 31: 'datasets/Viking/31.jpg', 32: 'datasets/Viking/32.jpg', 33: 'datasets/Viking/33.jpg', 34: 'datasets/Viking/34.jpg', 35: 'datasets/Viking/35.jpg', 36: 'datasets/Viking/36.jpg', 37: 'datasets/Viking/37.jpg', 38: 'datasets/Viking/38.jpg', 39: 'datasets/Viking/39.jpg', 40: 'datasets/Viking/40.jpg', 41: 'datasets/Viking/41.jpg', 42: 'datasets/Viking/42.jpg', 43: 'datasets/Viking/43.jpg', 44: 'datasets/Viking/44.jpg', 45: 'datasets/Viking/45.jpg', 46: 'datasets/Viking/46.jpg', 47: 'datasets/Viking/47.jpg', 48: 'datasets/Viking/48.jpg'}\n"
     ]
    }
   ],
   "source": [
    "files = os.listdir(src)\n",
    "files.sort()\n",
    "itoimg = {}\n",
    "n = 0\n",
    "\n",
    "for f in files:\n",
    "    try:\n",
    "        im = cv2.imread(f\"{src}/{f}\")\n",
    "        im.shape\n",
    "\n",
    "        itoimg[n] = f\"{src}/{f}\"\n",
    "        n+=1\n",
    "\n",
    "    except:\n",
    "        pass\n",
    "\n",
    "print(itoimg)"
   ]
  },
  {
   "cell_type": "code",
   "execution_count": 62,
   "metadata": {},
   "outputs": [],
   "source": [
    "def threshold(img, threshold=0):\n",
    "    img[np.abs(img) > threshold] = 255\n",
    "    return img\n",
    "\n",
    "def lowpassFilter(img, kernelSize, sigma=1.0, mu=0.0):\n",
    "    x, y = np.meshgrid(np.linspace(-1, 1, kernelSize), np.linspace(-1, 1, kernelSize))\n",
    "    d = np.sqrt(x*x + y*y)\n",
    "    kernel = np.exp(-((d - mu)**2 / (2.0 * sigma**2)))\n",
    "\n",
    "    smoothed = cv2.filter2D(img, -1, kernel)\n",
    "    return smoothed"
   ]
  },
  {
   "cell_type": "code",
   "execution_count": 134,
   "metadata": {},
   "outputs": [
    {
     "name": "stdout",
     "output_type": "stream",
     "text": [
      "102.99820188492063\n",
      "removed:  334\n",
      "total:  1763\n",
      "prcnt rm:  0.1592751549833095\n",
      "score 0.15976448391408357\n"
     ]
    }
   ],
   "source": [
    "i = 0\n",
    "\n",
    "out_dir = 'pres_out'\n",
    "\n",
    "while True:\n",
    "    frame = cv2.imread(itoimg[i])\n",
    "    frame_g = cv2.cvtColor(frame, cv2.COLOR_BGR2GRAY)\n",
    "    \n",
    "    # g0 = cv2.GaussianBlur(frame_g, (25, 25), 1)\n",
    "    # g1 = cv2.GaussianBlur(frame_g, (25,25), 0.3)\n",
    "    # frame_gauss = g1-g0\n",
    "\n",
    "    frame_gauss = cv2.GaussianBlur(frame_gauss, (7, 7), 0)\n",
    "\n",
    "    edges = cv2.Canny(frame_gauss, 0, 100)\n",
    "    # g0 = cv2.GaussianBlur(edges, (25,25), 0)\n",
    "    # g1 = cv2.GaussianBlur(edges, (25,25), 0)\n",
    "    # edges = g1-g0\n",
    "    # edges = cv2.Sobel(frame_g, cv2.CV_64F, dx=1, dy=0, ksize=5)\n",
    "\n",
    "    _frame = edges\n",
    "    _frame = lowpassFilter(_frame, 35)\n",
    "    ret, mask = cv2.threshold(_frame, 128, 255, cv2.THRESH_BINARY | cv2.THRESH_OTSU)\n",
    "    # mask = lowpassFilter(mask, 15)\n",
    "    mask = cv2.medianBlur(mask, 95)\n",
    "    mask = cv2.medianBlur(mask, 95)\n",
    "    out = cv2.bitwise_and(frame, frame, mask=mask)\n",
    "    kps = detector.detect(frame)\n",
    "    kps_good = []\n",
    "\n",
    "    kps_pt = [kp.pt for kp in kps]\n",
    "    kps_mean_col = [out[np.uint16(kp[1])][np.uint16(kp[0])] for kp in kps_pt]\n",
    "    removed = 0\n",
    "    for idx in range(len(kps_mean_col)):\n",
    "        if not np.any(kps_mean_col[idx]):\n",
    "            removed+=1\n",
    "            continue\n",
    "        kps_good.append(kps[idx])\n",
    "    out_kps_filt = cv2.drawKeypoints(out, kps_good, None)\n",
    "    out_kps = cv2.drawKeypoints(frame, kps, None)\n",
    "\n",
    "    print(np.mean(mask))\n",
    "    print('removed: ', removed)\n",
    "    print('total: ', len(kps_good))\n",
    "    print('prcnt rm: ', removed/len(kps_pt))\n",
    "    print('score', removed/len(kps_pt) + frame.shape[1]/(10000*np.mean(mask)))\n",
    "\n",
    "    i+=1\n",
    "\n",
    "    frame = cv2.resize(frame, (640, 480), interpolation= cv2.INTER_LINEAR)\n",
    "    out_kps = cv2.resize(out_kps, (640, 480), interpolation= cv2.INTER_LINEAR)\n",
    "    edges = cv2.resize(edges, (640, 480), interpolation= cv2.INTER_LINEAR)\n",
    "    mask = cv2.resize(mask, (640, 480), interpolation= cv2.INTER_LINEAR)\n",
    "    out_kps_filt = cv2.resize(out_kps_filt, (640, 480), interpolation= cv2.INTER_LINEAR)\n",
    "    frame_gauss = cv2.resize(frame_gauss, (640, 480), interpolation= cv2.INTER_LINEAR)\n",
    "\n",
    "    cv2.imshow(\"frame\", frame)\n",
    "    cv2.imshow(\"detections\", out_kps)\n",
    "    cv2.imshow(\"Gaussian\", frame_gauss)\n",
    "    cv2.imshow(\"edges\", edges)\n",
    "    cv2.imshow(\"mask\", mask)\n",
    "    cv2.imshow(\"detections filt\", out_kps_filt)\n",
    "\n",
    "    key = cv2.waitKey(0)\n",
    "    if key == 27:\n",
    "        cv2.destroyAllWindows()\n",
    "        break\n",
    "\n",
    "    if key == ord('s'):\n",
    "        cv2.imwrite(f'{out_dir}/{i}_source.png', frame)\n",
    "        cv2.imwrite(f'{out_dir}/{i}_detections.png', out_kps)\n",
    "        cv2.imwrite(f'{out_dir}/{i}_edges.png', edges)\n",
    "        cv2.imwrite(f'{out_dir}/{i}_mask.png', mask)\n",
    "        cv2.imwrite(f'{out_dir}/{i}_detections_filtered.png', out_kps_filt)\n",
    "\n",
    "    # fix for notebook\n",
    "    if i == n:\n",
    "        cv2.destroyAllWindows()\n",
    "        break\n"
   ]
  }
 ],
 "metadata": {
  "kernelspec": {
   "display_name": ".venv",
   "language": "python",
   "name": "python3"
  },
  "language_info": {
   "codemirror_mode": {
    "name": "ipython",
    "version": 3
   },
   "file_extension": ".py",
   "mimetype": "text/x-python",
   "name": "python",
   "nbconvert_exporter": "python",
   "pygments_lexer": "ipython3",
   "version": "3.11.4"
  }
 },
 "nbformat": 4,
 "nbformat_minor": 2
}
