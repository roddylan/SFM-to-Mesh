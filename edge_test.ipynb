{
 "cells": [
  {
   "cell_type": "code",
   "execution_count": 2,
   "metadata": {},
   "outputs": [
    {
     "name": "stdout",
     "output_type": "stream",
     "text": [
      "Jupyter environment detected. Enabling Open3D WebVisualizer.\n",
      "[Open3D INFO] WebRTC GUI backend enabled.\n",
      "[Open3D INFO] WebRTCWindowSystem: HTTP handshake server disabled.\n"
     ]
    }
   ],
   "source": [
    "from sfm import SFM\n",
    "import os, cv2\n",
    "import numpy as np\n",
    "import matplotlib.pyplot as plt"
   ]
  },
  {
   "cell_type": "code",
   "execution_count": 80,
   "metadata": {},
   "outputs": [],
   "source": [
    "src = 'datasets/templeRing'\n",
    "detector = cv2.BRISK_create()"
   ]
  },
  {
   "cell_type": "code",
   "execution_count": 81,
   "metadata": {},
   "outputs": [
    {
     "name": "stdout",
     "output_type": "stream",
     "text": [
      "{0: 'datasets/templeRing/00.png', 1: 'datasets/templeRing/01.png', 2: 'datasets/templeRing/02.png', 3: 'datasets/templeRing/03.png', 4: 'datasets/templeRing/04.png', 5: 'datasets/templeRing/05.png', 6: 'datasets/templeRing/06.png', 7: 'datasets/templeRing/07.png', 8: 'datasets/templeRing/08.png', 9: 'datasets/templeRing/09.png', 10: 'datasets/templeRing/10.png', 11: 'datasets/templeRing/11.png', 12: 'datasets/templeRing/12.png', 13: 'datasets/templeRing/13.png', 14: 'datasets/templeRing/14.png', 15: 'datasets/templeRing/15.png', 16: 'datasets/templeRing/16.png', 17: 'datasets/templeRing/17.png', 18: 'datasets/templeRing/18.png', 19: 'datasets/templeRing/19.png', 20: 'datasets/templeRing/20.png', 21: 'datasets/templeRing/21.png', 22: 'datasets/templeRing/22.png', 23: 'datasets/templeRing/23.png', 24: 'datasets/templeRing/24.png', 25: 'datasets/templeRing/25.png', 26: 'datasets/templeRing/26.png', 27: 'datasets/templeRing/27.png', 28: 'datasets/templeRing/28.png', 29: 'datasets/templeRing/29.png', 30: 'datasets/templeRing/30.png', 31: 'datasets/templeRing/31.png', 32: 'datasets/templeRing/32.png', 33: 'datasets/templeRing/33.png', 34: 'datasets/templeRing/34.png', 35: 'datasets/templeRing/35.png', 36: 'datasets/templeRing/36.png', 37: 'datasets/templeRing/37.png', 38: 'datasets/templeRing/38.png', 39: 'datasets/templeRing/39.png', 40: 'datasets/templeRing/40.png', 41: 'datasets/templeRing/41.png', 42: 'datasets/templeRing/42.png', 43: 'datasets/templeRing/43.png', 44: 'datasets/templeRing/44.png', 45: 'datasets/templeRing/45.png'}\n"
     ]
    }
   ],
   "source": [
    "files = os.listdir(src)\n",
    "files.sort()\n",
    "itoimg = {}\n",
    "n = 0\n",
    "\n",
    "for f in files:\n",
    "    try:\n",
    "        im = cv2.imread(f\"{src}/{f}\")\n",
    "        im.shape\n",
    "\n",
    "        itoimg[n] = f\"{src}/{f}\"\n",
    "        n+=1\n",
    "\n",
    "    except:\n",
    "        pass\n",
    "\n",
    "print(itoimg)"
   ]
  },
  {
   "cell_type": "code",
   "execution_count": 5,
   "metadata": {},
   "outputs": [],
   "source": [
    "def threshold(img, threshold=0):\n",
    "    img[np.abs(img) > threshold] = 255\n",
    "    return img\n",
    "\n",
    "def lowpassFilter(img, kernelSize, sigma=1.0, mu=0.0):\n",
    "    x, y = np.meshgrid(np.linspace(-1, 1, kernelSize), np.linspace(-1, 1, kernelSize))\n",
    "    d = np.sqrt(x*x + y*y)\n",
    "    kernel = np.exp(-((d - mu)**2 / (2.0 * sigma**2)))\n",
    "\n",
    "    smoothed = cv2.filter2D(img, -1, kernel)\n",
    "    return smoothed"
   ]
  },
  {
   "cell_type": "code",
   "execution_count": 84,
   "metadata": {},
   "outputs": [
    {
     "name": "stdout",
     "output_type": "stream",
     "text": [
      "107.3955078125\n",
      "108.751025390625\n",
      "109.420068359375\n",
      "112.315380859375\n",
      "115.990966796875\n",
      "115.3576171875\n",
      "110.95654296875\n",
      "103.367138671875\n",
      "105.4830078125\n",
      "92.9255859375\n",
      "87.270263671875\n",
      "86.518212890625\n",
      "87.876220703125\n",
      "88.717919921875\n",
      "92.25654296875\n",
      "101.311865234375\n",
      "107.341552734375\n",
      "111.87294921875\n",
      "115.0953125\n",
      "116.689892578125\n",
      "117.277587890625\n",
      "117.312451171875\n",
      "116.36533203125\n",
      "117.39296875\n",
      "120.082421875\n",
      "121.5267578125\n",
      "121.175634765625\n",
      "119.757861328125\n",
      "117.3830078125\n",
      "116.68740234375\n",
      "112.594287109375\n",
      "108.224755859375\n",
      "102.9197265625\n",
      "96.965576171875\n",
      "90.47021484375\n",
      "89.8974609375\n",
      "90.992333984375\n",
      "91.256298828125\n",
      "91.151708984375\n",
      "93.446875\n",
      "97.473583984375\n",
      "101.839794921875\n",
      "105.36845703125\n",
      "107.710107421875\n",
      "108.663037109375\n",
      "107.872802734375\n"
     ]
    }
   ],
   "source": [
    "i = 0\n",
    "\n",
    "while True:\n",
    "    frame = cv2.imread(itoimg[i])\n",
    "    frame_g = cv2.cvtColor(frame, cv2.COLOR_BGR2GRAY)\n",
    "\n",
    "    frame_g = cv2.GaussianBlur(frame_g, (5,5), 0)\n",
    "\n",
    "    edges = cv2.Canny(frame_g, 50, 200)\n",
    "    # edges = cv2.Sobel(frame_g, cv2.CV_64F, dx=1, dy=0, ksize=5)\n",
    "\n",
    "    _frame = edges\n",
    "    # _frame = cv2.medianBlur(_frame, 3)\n",
    "    _frame = lowpassFilter(_frame, 55)\n",
    "    ret, _frame = cv2.threshold(_frame, 128, 255, cv2.THRESH_BINARY | cv2.THRESH_OTSU)\n",
    "    out = cv2.bitwise_and(frame, frame, mask=_frame)\n",
    "    kps = detector.detect(frame)\n",
    "    kps_good = []\n",
    "\n",
    "    kps_pt = [kp.pt for kp in kps]\n",
    "    kps_mean_col = [out[np.uint16(kp[1])][np.uint16(kp[0])] for kp in kps_pt]\n",
    "    for idx in range(len(kps_mean_col)):\n",
    "        if not np.any(kps_mean_col[idx]):\n",
    "            continue\n",
    "        kps_good.append(kps[idx])\n",
    "    out_kps = cv2.drawKeypoints(out, kps_good, None)\n",
    "    cv2.putText(out_kps, str(i+1), (0, 50), cv2.FONT_HERSHEY_COMPLEX, 2, (0, 255, 0), 3)\n",
    "\n",
    "    print(np.mean(_frame))\n",
    "\n",
    "    i+=1\n",
    "\n",
    "    # _frame = cv2.resize(_frame, (640, 480), interpolation= cv2.INTER_LINEAR)\n",
    "\n",
    "    cv2.imshow(\"frame\", out)\n",
    "    cv2.imshow(\"detections\", out_kps)\n",
    "    key = cv2.waitKey(50)\n",
    "    if key == 27:\n",
    "        cv2.destroyAllWindows()\n",
    "        break\n",
    "\n",
    "    # fix for notebook\n",
    "    if i == n:\n",
    "        cv2.destroyAllWindows()\n",
    "        break\n"
   ]
  }
 ],
 "metadata": {
  "kernelspec": {
   "display_name": ".venv",
   "language": "python",
   "name": "python3"
  },
  "language_info": {
   "codemirror_mode": {
    "name": "ipython",
    "version": 3
   },
   "file_extension": ".py",
   "mimetype": "text/x-python",
   "name": "python",
   "nbconvert_exporter": "python",
   "pygments_lexer": "ipython3",
   "version": "3.11.4"
  }
 },
 "nbformat": 4,
 "nbformat_minor": 2
}
