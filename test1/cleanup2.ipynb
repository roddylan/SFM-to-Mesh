{
 "cells": [
  {
   "cell_type": "code",
   "execution_count": 24,
   "metadata": {},
   "outputs": [],
   "source": [
    "import numpy as np\n",
    "import open3d as o3d\n",
    "\n",
    "def display_inlier_outlier(cloud, ind):\n",
    "    inlier_cloud = cloud.select_by_index(ind)\n",
    "    outlier_cloud = cloud.select_by_index(ind, invert=True)\n",
    "\n",
    "    print(\"Showing outliers (red) and inliers (gray): \")\n",
    "    # outlier_cloud.paint_uniform_color([1, 0, 0])\n",
    "    inlier_cloud.paint_uniform_color([0.8, 0.8, 0.8])\n",
    "    # o3d.visualization.draw_geometries([inlier_cloud, outlier_cloud],\n",
    "    #                                   zoom=0.3412,\n",
    "    #                                   front=[0.4257, -0.2125, -0.8795],\n",
    "    #                                   lookat=[2.6172, 2.0475, 1.532],\n",
    "    #                                   up=[-0.0694, -0.9768, 0.2024])\n",
    "    o3d.visualization.draw_geometries([inlier_cloud],\n",
    "                                      zoom=0.3412,\n",
    "                                      front=[0.4257, -0.2125, -0.8795],\n",
    "                                      lookat=[2.6172, 2.0475, 1.532],\n",
    "                                      up=[-0.0694, -0.9768, 0.2024])\n",
    "    \n",
    "    return inlier_cloud\n",
    "\n",
    "\n",
    "\n",
    "old_name = f\"dense.0.ply\"\n",
    "pcd = o3d.io.read_point_cloud(old_name)\n",
    "# og_cloud.colors = o3d.utility.Vector3dVector(rgb_t.astype(np.float) / 255.0)"
   ]
  },
  {
   "cell_type": "code",
   "execution_count": 25,
   "metadata": {},
   "outputs": [
    {
     "name": "stdout",
     "output_type": "stream",
     "text": [
      "\u001b[1;33m[Open3D WARNING] GLFW Error: Cocoa: Failed to find service port for display\u001b[0;m\n"
     ]
    }
   ],
   "source": [
    "o3d.visualization.draw_geometries([pcd])"
   ]
  },
  {
   "cell_type": "code",
   "execution_count": 2,
   "metadata": {},
   "outputs": [],
   "source": [
    "# test = pcd.uniform_down_sample(1000)\n",
    "# test = pcd.uniform_down_sample(150)\n",
    "# test = pcd.uniform_down_sample(75)\n",
    "sz = .02\n",
    "# sz = .2\n",
    "test=pcd.voxel_down_sample(sz)\n",
    "# o3d.visualization.draw([test])\n",
    "# o3d.visualization.draw_geometries([test])"
   ]
  },
  {
   "cell_type": "code",
   "execution_count": 3,
   "metadata": {},
   "outputs": [],
   "source": [
    "# sz = .02\n",
    "n_neigh = 5\n",
    "std_ratio = 0.25\n",
    "\n",
    "\n",
    "n_pts = 12\n",
    "rad = .15\n",
    "\n",
    "\n",
    "_, sind = test.remove_statistical_outlier(n_neigh, std_ratio, False)\n",
    "_, rind = test.remove_radius_outlier(n_pts, rad)\n"
   ]
  },
  {
   "cell_type": "code",
   "execution_count": 4,
   "metadata": {},
   "outputs": [
    {
     "name": "stdout",
     "output_type": "stream",
     "text": [
      "Showing outliers (red) and inliers (gray): \n",
      "\u001b[1;33m[Open3D WARNING] GLFW Error: Cocoa: Failed to find service port for display\u001b[0;m\n"
     ]
    }
   ],
   "source": [
    "inl = display_inlier_outlier(test, sind)\n",
    "# display_inlier_outlier(test, rind)"
   ]
  },
  {
   "cell_type": "code",
   "execution_count": 5,
   "metadata": {},
   "outputs": [
    {
     "name": "stdout",
     "output_type": "stream",
     "text": [
      "PointCloud with 146083 points.\n"
     ]
    }
   ],
   "source": [
    "print(inl)"
   ]
  },
  {
   "cell_type": "code",
   "execution_count": 5,
   "metadata": {},
   "outputs": [],
   "source": [
    "_, rind = inl.remove_radius_outlier(n_pts, rad)"
   ]
  },
  {
   "cell_type": "code",
   "execution_count": 6,
   "metadata": {},
   "outputs": [
    {
     "name": "stdout",
     "output_type": "stream",
     "text": [
      "Showing outliers (red) and inliers (gray): \n",
      "\u001b[1;33m[Open3D WARNING] GLFW Error: Cocoa: Failed to find service port for display\u001b[0;m\n"
     ]
    },
    {
     "data": {
      "text/plain": [
       "PointCloud with 144861 points."
      ]
     },
     "execution_count": 6,
     "metadata": {},
     "output_type": "execute_result"
    },
    {
     "ename": "",
     "evalue": "",
     "output_type": "error",
     "traceback": [
      "\u001b[1;31mThe Kernel crashed while executing code in the current cell or a previous cell. \n",
      "\u001b[1;31mPlease review the code in the cell(s) to identify a possible cause of the failure. \n",
      "\u001b[1;31mClick <a href='https://aka.ms/vscodeJupyterKernelCrash'>here</a> for more info. \n",
      "\u001b[1;31mView Jupyter <a href='command:jupyter.viewOutput'>log</a> for further details."
     ]
    }
   ],
   "source": [
    "display_inlier_outlier(inl, rind)\n",
    "# o3d.visualization.draw([test])"
   ]
  },
  {
   "cell_type": "code",
   "execution_count": 19,
   "metadata": {},
   "outputs": [],
   "source": [
    "dists = inl.compute_nearest_neighbor_distance()\n",
    "avg_dist = np.mean(dists)\n",
    "# bpa_rad = 3*avg_dist\n",
    "bpa_rad = avg_dist\n",
    "\n",
    "\n",
    "bpa_mesh = o3d.geometry.TriangleMesh.create_from_point_cloud_ball_pivoting(\n",
    "    inl, o3d.utility.DoubleVector([bpa_rad, bpa_rad * 2])\n",
    ")\n",
    "\n",
    "\n",
    "# dec_mesh = bpa_mesh.simplify_quadratic_decimation(10000000)"
   ]
  },
  {
   "cell_type": "code",
   "execution_count": 12,
   "metadata": {},
   "outputs": [],
   "source": [
    "p_mesh,_ = o3d.geometry.TriangleMesh.create_from_point_cloud_poisson(inl, depth=9)"
   ]
  },
  {
   "cell_type": "code",
   "execution_count": 22,
   "metadata": {},
   "outputs": [],
   "source": [
    "# alpha = .03\n",
    "alpha = .5\n",
    "a_mesh = o3d.geometry.TriangleMesh.create_from_point_cloud_alpha_shape(inl, alpha)\n",
    "\n"
   ]
  },
  {
   "cell_type": "code",
   "execution_count": 23,
   "metadata": {},
   "outputs": [
    {
     "name": "stdout",
     "output_type": "stream",
     "text": [
      "\u001b[1;33m[Open3D WARNING] GLFW Error: Cocoa: Failed to find service port for display\u001b[0;m\n",
      "\u001b[1;33m[Open3D WARNING] GLFW Error: Cocoa: Failed to find service port for display\u001b[0;m\n"
     ]
    }
   ],
   "source": [
    "a_mesh.paint_uniform_color([1, 0, 0])\n",
    "o3d.visualization.draw_geometries([a_mesh], window_name=\"alph mesh\")\n",
    "\n",
    "bpa_mesh.paint_uniform_color([1, 0, 0])\n",
    "o3d.visualization.draw_geometries([bpa_mesh], window_name=\"bpa mesh\")"
   ]
  },
  {
   "cell_type": "code",
   "execution_count": 14,
   "metadata": {},
   "outputs": [
    {
     "name": "stdout",
     "output_type": "stream",
     "text": [
      "\u001b[1;33m[Open3D WARNING] GLFW Error: Cocoa: Failed to find service port for display\u001b[0;m\n"
     ]
    }
   ],
   "source": [
    "p_mesh.paint_uniform_color([1, 0, 0])\n",
    "o3d.visualization.draw_geometries([p_mesh], window_name=\"pois mesh\")"
   ]
  },
  {
   "cell_type": "code",
   "execution_count": null,
   "metadata": {},
   "outputs": [
    {
     "ename": "TypeError",
     "evalue": "create_from_point_cloud_ball_pivoting(): incompatible function arguments. The following argument types are supported:\n    1. (pcd: open3d.cpu.pybind.geometry.PointCloud, radii: open3d.cpu.pybind.utility.DoubleVector) -> open3d.cpu.pybind.geometry.TriangleMesh\n\nInvoked with: TriangleMesh with 146083 points and 150802 triangles., DoubleVector[0.0275777, 0.0551553]",
     "output_type": "error",
     "traceback": [
      "\u001b[0;31m---------------------------------------------------------------------------\u001b[0m",
      "\u001b[0;31mTypeError\u001b[0m                                 Traceback (most recent call last)",
      "Cell \u001b[0;32mIn[32], line 2\u001b[0m\n\u001b[1;32m      1\u001b[0m bpa_rad \u001b[38;5;241m=\u001b[39m \u001b[38;5;241m2\u001b[39m \u001b[38;5;241m*\u001b[39m avg_dist\n\u001b[0;32m----> 2\u001b[0m test \u001b[38;5;241m=\u001b[39m \u001b[43mo3d\u001b[49m\u001b[38;5;241;43m.\u001b[39;49m\u001b[43mgeometry\u001b[49m\u001b[38;5;241;43m.\u001b[39;49m\u001b[43mTriangleMesh\u001b[49m\u001b[38;5;241;43m.\u001b[39;49m\u001b[43mcreate_from_point_cloud_ball_pivoting\u001b[49m\u001b[43m(\u001b[49m\n\u001b[1;32m      3\u001b[0m \u001b[43m    \u001b[49m\u001b[43mbpa_mesh\u001b[49m\u001b[43m,\u001b[49m\u001b[43m \u001b[49m\u001b[43mo3d\u001b[49m\u001b[38;5;241;43m.\u001b[39;49m\u001b[43mutility\u001b[49m\u001b[38;5;241;43m.\u001b[39;49m\u001b[43mDoubleVector\u001b[49m\u001b[43m(\u001b[49m\u001b[43m[\u001b[49m\u001b[43mbpa_rad\u001b[49m\u001b[43m,\u001b[49m\u001b[43m \u001b[49m\u001b[43mbpa_rad\u001b[49m\u001b[43m \u001b[49m\u001b[38;5;241;43m*\u001b[39;49m\u001b[43m \u001b[49m\u001b[38;5;241;43m2\u001b[39;49m\u001b[43m]\u001b[49m\u001b[43m)\u001b[49m\n\u001b[1;32m      4\u001b[0m \u001b[43m)\u001b[49m\n",
      "\u001b[0;31mTypeError\u001b[0m: create_from_point_cloud_ball_pivoting(): incompatible function arguments. The following argument types are supported:\n    1. (pcd: open3d.cpu.pybind.geometry.PointCloud, radii: open3d.cpu.pybind.utility.DoubleVector) -> open3d.cpu.pybind.geometry.TriangleMesh\n\nInvoked with: TriangleMesh with 146083 points and 150802 triangles., DoubleVector[0.0275777, 0.0551553]"
     ]
    }
   ],
   "source": [
    "# bpa_rad = 3 * avg_dist\n",
    "# test = o3d.geometry.TriangleMesh.create_from_point_cloud_ball_pivoting(\n",
    "#     inl, o3d.utility.DoubleVector([bpa_rad, bpa_rad * 2])\n",
    "# )"
   ]
  },
  {
   "cell_type": "code",
   "execution_count": 7,
   "metadata": {},
   "outputs": [
    {
     "data": {
      "text/plain": [
       "open3d.cpu.pybind.geometry.TriangleMesh"
      ]
     },
     "execution_count": 7,
     "metadata": {},
     "output_type": "execute_result"
    }
   ],
   "source": [
    "type(p_mesh[0])"
   ]
  },
  {
   "cell_type": "code",
   "execution_count": 13,
   "metadata": {},
   "outputs": [],
   "source": [
    "temp = o3d.t.geometry.TriangleMesh.from_legacy(bpa_mesh)"
   ]
  },
  {
   "cell_type": "code",
   "execution_count": null,
   "metadata": {},
   "outputs": [],
   "source": []
  },
  {
   "cell_type": "code",
   "execution_count": 30,
   "metadata": {},
   "outputs": [
    {
     "name": "stdout",
     "output_type": "stream",
     "text": [
      "\u001b[1;33m[Open3D WARNING] Ignoring attribute 'normals' for TensorMap with primary key 'indices'\u001b[0;m\n"
     ]
    }
   ],
   "source": [
    "filled = temp.fill_holes()"
   ]
  },
  {
   "cell_type": "code",
   "execution_count": 39,
   "metadata": {},
   "outputs": [
    {
     "name": "stdout",
     "output_type": "stream",
     "text": [
      "\u001b[1;33m[Open3D WARNING] GLFW Error: Cocoa: Failed to find service port for display\u001b[0;m\n"
     ]
    },
    {
     "ename": "TypeError",
     "evalue": "add_geometry(): incompatible function arguments. The following argument types are supported:\n    1. (self: open3d.cpu.pybind.visualization.Visualizer, geometry: open3d.cpu.pybind.geometry.Geometry, reset_bounding_box: bool = True) -> bool\n\nInvoked with: Visualizer with name Open3D, TriangleMesh on CPU:0 [146083 vertices (Float32) and 150802 triangles (Int64)].\nVertex Attributes: colors (dtype = Float32, shape = {146083, 3}), normals (dtype = Float32, shape = {146083, 3}).\nTriangle Attributes: normals (dtype = Float32, shape = {150802, 3}).",
     "output_type": "error",
     "traceback": [
      "\u001b[0;31m---------------------------------------------------------------------------\u001b[0m",
      "\u001b[0;31mTypeError\u001b[0m                                 Traceback (most recent call last)",
      "Cell \u001b[0;32mIn[39], line 9\u001b[0m\n\u001b[1;32m      7\u001b[0m vis \u001b[38;5;241m=\u001b[39m o3d\u001b[38;5;241m.\u001b[39mvisualization\u001b[38;5;241m.\u001b[39mVisualizer()\n\u001b[1;32m      8\u001b[0m vis\u001b[38;5;241m.\u001b[39mcreate_window()\n\u001b[0;32m----> 9\u001b[0m \u001b[43mvis\u001b[49m\u001b[38;5;241;43m.\u001b[39;49m\u001b[43madd_geometry\u001b[49m\u001b[43m(\u001b[49m\u001b[43mtemp\u001b[49m\u001b[43m)\u001b[49m\n\u001b[1;32m     10\u001b[0m vis\u001b[38;5;241m.\u001b[39mrun()\n",
      "\u001b[0;31mTypeError\u001b[0m: add_geometry(): incompatible function arguments. The following argument types are supported:\n    1. (self: open3d.cpu.pybind.visualization.Visualizer, geometry: open3d.cpu.pybind.geometry.Geometry, reset_bounding_box: bool = True) -> bool\n\nInvoked with: Visualizer with name Open3D, TriangleMesh on CPU:0 [146083 vertices (Float32) and 150802 triangles (Int64)].\nVertex Attributes: colors (dtype = Float32, shape = {146083, 3}), normals (dtype = Float32, shape = {146083, 3}).\nTriangle Attributes: normals (dtype = Float32, shape = {150802, 3})."
     ]
    }
   ],
   "source": [
    "# leg = o3d.geometry.TriangleMesh()\n",
    "# # leg.vertices = filled.vertices.cpu()\n",
    "# # leg.triangles = filled.triangles.cpu()\n",
    "# leg.vertices = filled.vertex.cpu()\n",
    "# leg.triangles = filled.triangle\n",
    "\n",
    "# vis = o3d.visualization.Visualizer()\n",
    "# vis.create_window()\n",
    "# vis.add_geometry(temp)\n",
    "# vis.run()"
   ]
  },
  {
   "cell_type": "code",
   "execution_count": 38,
   "metadata": {},
   "outputs": [
    {
     "data": {
      "text/plain": [
       "TensorMap(primary_key=\"positions\") with 3 attributes:\n",
       "  - colors   : shape={146083, 3}, dtype=Float32, device=CPU:0\n",
       "  - normals  : shape={146083, 3}, dtype=Float32, device=CPU:0\n",
       "  - positions: shape={146083, 3}, dtype=Float32, device=CPU:0 (primary)\n",
       "  (Use . to access attributes, e.g., tensor_map.positions)"
      ]
     },
     "execution_count": 38,
     "metadata": {},
     "output_type": "execute_result"
    }
   ],
   "source": [
    "filled.vertex"
   ]
  },
  {
   "cell_type": "code",
   "execution_count": 33,
   "metadata": {},
   "outputs": [],
   "source": [
    "vis.destroy_window()"
   ]
  },
  {
   "cell_type": "code",
   "execution_count": 18,
   "metadata": {},
   "outputs": [
    {
     "ename": "NameError",
     "evalue": "name 'bpa_mesh' is not defined",
     "output_type": "error",
     "traceback": [
      "\u001b[0;31m---------------------------------------------------------------------------\u001b[0m",
      "\u001b[0;31mNameError\u001b[0m                                 Traceback (most recent call last)",
      "Cell \u001b[0;32mIn[18], line 1\u001b[0m\n\u001b[0;32m----> 1\u001b[0m \u001b[43mbpa_mesh\u001b[49m\u001b[38;5;241m.\u001b[39mpaint_uniform_color([\u001b[38;5;241m1\u001b[39m, \u001b[38;5;241m0\u001b[39m, \u001b[38;5;241m0\u001b[39m])\n\u001b[1;32m      2\u001b[0m o3d\u001b[38;5;241m.\u001b[39mvisualization\u001b[38;5;241m.\u001b[39mdraw_geometries([bpa_mesh], window_name\u001b[38;5;241m=\u001b[39m\u001b[38;5;124m\"\u001b[39m\u001b[38;5;124mbpa mesh\u001b[39m\u001b[38;5;124m\"\u001b[39m)\n",
      "\u001b[0;31mNameError\u001b[0m: name 'bpa_mesh' is not defined"
     ]
    }
   ],
   "source": [
    "bpa_mesh.paint_uniform_color([1, 0, 0])\n",
    "o3d.visualization.draw_geometries([bpa_mesh], window_name=\"bpa mesh\")\n",
    "\n",
    "# ds_pcd = pcd.voxel_down_sample(.02)"
   ]
  },
  {
   "cell_type": "code",
   "execution_count": 29,
   "metadata": {},
   "outputs": [],
   "source": [
    "temp = bpa_mesh"
   ]
  },
  {
   "cell_type": "code",
   "execution_count": 27,
   "metadata": {},
   "outputs": [
    {
     "name": "stdout",
     "output_type": "stream",
     "text": [
      "\u001b[1;33m[Open3D WARNING] GLFW Error: Cocoa: Failed to find service port for display\u001b[0;m\n"
     ]
    }
   ],
   "source": [
    "o3d.visualization.draw_geometries([temp], window_name=\"bpa mesh\")"
   ]
  },
  {
   "cell_type": "code",
   "execution_count": null,
   "metadata": {},
   "outputs": [],
   "source": [
    "seg = ds_pcd.segment_plane(0.01, 3, 1000)"
   ]
  },
  {
   "cell_type": "code",
   "execution_count": null,
   "metadata": {},
   "outputs": [],
   "source": [
    "lrg_seg= seg[0]\n",
    "\n",
    "display_inlier_outlier(ds_pcd, seg[1])"
   ]
  }
 ],
 "metadata": {
  "kernelspec": {
   "display_name": "base",
   "language": "python",
   "name": "python3"
  },
  "language_info": {
   "codemirror_mode": {
    "name": "ipython",
    "version": 3
   },
   "file_extension": ".py",
   "mimetype": "text/x-python",
   "name": "python",
   "nbconvert_exporter": "python",
   "pygments_lexer": "ipython3",
   "version": "3.10.13"
  }
 },
 "nbformat": 4,
 "nbformat_minor": 2
}
