{
 "cells": [
  {
   "cell_type": "code",
   "execution_count": 2,
   "metadata": {},
   "outputs": [],
   "source": [
    "from ultralytics import YOLO\n",
    "from SFM import SFM\n",
    "import os, cv2\n",
    "import numpy as np\n",
    "import matplotlib.pyplot as plt"
   ]
  },
  {
   "cell_type": "code",
   "execution_count": 13,
   "metadata": {},
   "outputs": [],
   "source": [
    "model = YOLO(\"yolov8n-seg.pt\")"
   ]
  },
  {
   "cell_type": "code",
   "execution_count": 31,
   "metadata": {},
   "outputs": [
    {
     "name": "stdout",
     "output_type": "stream",
     "text": [
      "\n",
      "image 1/1 /Users/rodericklan/Documents/UOFA/2023 S2/CMPUT 428/project/VSFM-to-Mesh/datasets/lego/IMG_3687.jpg: 480x640 1 person, 1 motorcycle, 1 vase, 180.6ms\n",
      "Speed: 4.0ms preprocess, 180.6ms inference, 3.1ms postprocess per image at shape (1, 3, 480, 640)\n"
     ]
    },
    {
     "data": {
      "text/plain": [
       "(3, 480, 640)"
      ]
     },
     "execution_count": 31,
     "metadata": {},
     "output_type": "execute_result"
    }
   ],
   "source": [
    "lego_im_src = \"datasets/lego/IMG_3687.jpg\"\n",
    "h, w, _ = cv2.imread(lego_im_src).shape\n",
    "res = model(lego_im_src)\n",
    "mask = res[0].masks.data\n",
    "# mask = (mask.numpy()+255).reshape(w,h)\n",
    "(mask.numpy()+255).squeeze()\n",
    "# mask = cv2.resize(mask.numpy() + 255, (w,h))\n",
    "# plt.imshow(mask)"
   ]
  },
  {
   "cell_type": "code",
   "execution_count": 34,
   "metadata": {},
   "outputs": [
    {
     "name": "stdout",
     "output_type": "stream",
     "text": [
      "\n",
      "image 1/1 /Users/rodericklan/Documents/UOFA/2023 S2/CMPUT 428/project/VSFM-to-Mesh/datasets/templeRing/00.png: 480x640 (no detections), 176.7ms\n",
      "Speed: 5.4ms preprocess, 176.7ms inference, 0.5ms postprocess per image at shape (1, 3, 480, 640)\n"
     ]
    },
    {
     "ename": "AttributeError",
     "evalue": "'NoneType' object has no attribute 'data'",
     "output_type": "error",
     "traceback": [
      "\u001b[0;31m---------------------------------------------------------------------------\u001b[0m",
      "\u001b[0;31mAttributeError\u001b[0m                            Traceback (most recent call last)",
      "Cell \u001b[0;32mIn[34], line 4\u001b[0m\n\u001b[1;32m      2\u001b[0m h, w, _ \u001b[38;5;241m=\u001b[39m cv2\u001b[38;5;241m.\u001b[39mimread(temple_im_src)\u001b[38;5;241m.\u001b[39mshape\n\u001b[1;32m      3\u001b[0m res \u001b[38;5;241m=\u001b[39m model(temple_im_src)\n\u001b[0;32m----> 4\u001b[0m mask \u001b[38;5;241m=\u001b[39m \u001b[43mres\u001b[49m\u001b[43m[\u001b[49m\u001b[38;5;241;43m0\u001b[39;49m\u001b[43m]\u001b[49m\u001b[38;5;241;43m.\u001b[39;49m\u001b[43mmasks\u001b[49m\u001b[38;5;241;43m.\u001b[39;49m\u001b[43mdata\u001b[49m\n\u001b[1;32m      5\u001b[0m mask \u001b[38;5;241m=\u001b[39m (mask\u001b[38;5;241m.\u001b[39mnumpy()\u001b[38;5;241m+\u001b[39m\u001b[38;5;241m255\u001b[39m)\u001b[38;5;241m.\u001b[39msqueeze()\n\u001b[1;32m      6\u001b[0m \u001b[38;5;66;03m# mask = cv2.resize(mask.numpy() + 255, (w,h))\u001b[39;00m\n",
      "\u001b[0;31mAttributeError\u001b[0m: 'NoneType' object has no attribute 'data'"
     ]
    }
   ],
   "source": [
    "temple_im_src = \"datasets/templeRing/00.png\"\n",
    "h, w, _ = cv2.imread(temple_im_src).shape\n",
    "res = model(temple_im_src)\n",
    "mask = res[0].masks.data\n",
    "mask = (mask.numpy()+255).squeeze()\n",
    "# mask = cv2.resize(mask.numpy() + 255, (w,h))\n",
    "plt.imshow(mask)"
   ]
  },
  {
   "cell_type": "code",
   "execution_count": 26,
   "metadata": {},
   "outputs": [
    {
     "data": {
      "text/plain": [
       "(1, 480, 640)"
      ]
     },
     "execution_count": 26,
     "metadata": {},
     "output_type": "execute_result"
    }
   ],
   "source": []
  }
 ],
 "metadata": {
  "kernelspec": {
   "display_name": "venv",
   "language": "python",
   "name": "python3"
  },
  "language_info": {
   "codemirror_mode": {
    "name": "ipython",
    "version": 3
   },
   "file_extension": ".py",
   "mimetype": "text/x-python",
   "name": "python",
   "nbconvert_exporter": "python",
   "pygments_lexer": "ipython3",
   "version": "3.10.0"
  }
 },
 "nbformat": 4,
 "nbformat_minor": 2
}
