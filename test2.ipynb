{
 "cells": [
  {
   "cell_type": "code",
   "execution_count": 1,
   "metadata": {},
   "outputs": [],
   "source": [
    "%reload_ext autoreload\n",
    "%autoreload 2\n",
    "import numpy as np\n",
    "from SFM import SFM\n",
    "import cv2\n",
    "import matplotlib.pyplot as plt"
   ]
  },
  {
   "cell_type": "code",
   "execution_count": 2,
   "metadata": {},
   "outputs": [
    {
     "name": "stderr",
     "output_type": "stream",
     "text": [
      "0021.jpg:   1%|          | 11/1507 [00:00<00:13, 109.01it/s]"
     ]
    },
    {
     "name": "stdout",
     "output_type": "stream",
     "text": [
      ".DS_Store is not an img...\n",
      "\n"
     ]
    },
    {
     "name": "stderr",
     "output_type": "stream",
     "text": [
      "1506.jpg: 100%|██████████| 1507/1507 [00:16<00:00, 91.09it/s] \n"
     ]
    }
   ],
   "source": [
    "path = \"test1/imgs\"\n",
    "\n",
    "\n",
    "test1 = SFM(path)"
   ]
  },
  {
   "cell_type": "code",
   "execution_count": 3,
   "metadata": {},
   "outputs": [
    {
     "name": "stdout",
     "output_type": "stream",
     "text": [
      "\n",
      "\n",
      "FEATURE EXTRACTION....\n"
     ]
    },
    {
     "name": "stderr",
     "output_type": "stream",
     "text": [
      "Image 1506: 100%|██████████| 1506/1506 [04:14<00:00,  5.91it/s]\n"
     ]
    }
   ],
   "source": [
    "kp, des = test1.ft_extract()"
   ]
  },
  {
   "cell_type": "code",
   "execution_count": 4,
   "metadata": {},
   "outputs": [
    {
     "name": "stdout",
     "output_type": "stream",
     "text": [
      "\n",
      "MATCHING...\n",
      "\n"
     ]
    },
    {
     "name": "stderr",
     "output_type": "stream",
     "text": [
      "(0, 1):   0%|          | 0/1505 [00:00<?, ?it/s]"
     ]
    },
    {
     "name": "stderr",
     "output_type": "stream",
     "text": [
      "Insufficient Matches for (177, 350):  12%|█▏        | 177/1505 [45:20<26:03:55, 70.66s/it] IOStream.flush timed out\n",
      "Insufficient Matches for (207, 1261):  14%|█▍        | 207/1505 [1:10:14<6:20:14, 17.58s/it]  IOStream.flush timed out\n",
      "(261, 344):  17%|█▋        | 261/1505 [1:28:09<3:09:38,  9.15s/it]                           IOStream.flush timed out\n",
      "(327, 978):  22%|██▏       | 327/1505 [1:38:52<1:18:59,  4.02s/it]                          IOStream.flush timed out\n",
      "(481, 1282):  32%|███▏      | 481/1505 [2:37:33<3:42:06, 13.01s/it]                          IOStream.flush timed out\n",
      "Insufficient Matches for (496, 1161):  33%|███▎      | 496/1505 [2:40:48<3:49:00, 13.62s/it] IOStream.flush timed out\n",
      "(528, 1159):  35%|███▌      | 528/1505 [2:49:27<1:43:57,  6.38s/it]                          "
     ]
    }
   ],
   "source": [
    "test1.ft_match()"
   ]
  },
  {
   "cell_type": "code",
   "execution_count": null,
   "metadata": {},
   "outputs": [],
   "source": [
    "# i=300\n",
    "# plt.imshow(cv2.drawKeypoints(im[i], kp[i], None))\n",
    "\n",
    "des[1][1].shape\n"
   ]
  }
 ],
 "metadata": {
  "kernelspec": {
   "display_name": "venv",
   "language": "python",
   "name": "python3"
  },
  "language_info": {
   "codemirror_mode": {
    "name": "ipython",
    "version": 3
   },
   "file_extension": ".py",
   "mimetype": "text/x-python",
   "name": "python",
   "nbconvert_exporter": "python",
   "pygments_lexer": "ipython3",
   "version": "3.10.0"
  }
 },
 "nbformat": 4,
 "nbformat_minor": 2
}
