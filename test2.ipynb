{
 "cells": [
  {
   "cell_type": "code",
   "execution_count": 10,
   "metadata": {},
   "outputs": [],
   "source": [
    "%reload_ext autoreload\n",
    "%autoreload 2\n",
    "import numpy as np\n",
    "from SFM import SFM\n",
    "import cv2\n",
    "import matplotlib as mpl\n",
    "import matplotlib.pyplot as plt\n",
    "from sfm_helpers import Rec as r\n",
    "from sfm_helpers import BA as ba\n",
    "import pandas as pd\n",
    "import pyntcloud\n",
    "%matplotlib inline\n",
    "mpl.rcParams['figure.dpi']= 200"
   ]
  },
  {
   "cell_type": "code",
   "execution_count": 2,
   "metadata": {},
   "outputs": [
    {
     "name": "stderr",
     "output_type": "stream",
     "text": [
      "templeR_par.txt: 100%|██████████| 49/49 [00:00<00:00, 79.36it/s]\n"
     ]
    },
    {
     "name": "stdout",
     "output_type": "stream",
     "text": [
      "README.txt is not an img...\n",
      "\n",
      "templeR_ang.txt is not an img...\n",
      "\n",
      "templeR_par.txt is not an img...\n",
      "\n"
     ]
    }
   ],
   "source": [
    "# path = \"test1/imgs\"\n",
    "path, K = \"datasets/templeRing\", np.matrix('1520.40 0.00 302.32; 0.00 1525.90 246.87; 0.00 0.00 1.00')\n",
    "# path = \"test1/7_1b_imgs_4\"\n",
    "\n",
    "\n",
    "test1 = SFM(path, K)"
   ]
  },
  {
   "cell_type": "code",
   "execution_count": 3,
   "metadata": {},
   "outputs": [
    {
     "name": "stdout",
     "output_type": "stream",
     "text": [
      "\n",
      "\n",
      "FEATURE EXTRACTION....\n"
     ]
    },
    {
     "name": "stderr",
     "output_type": "stream",
     "text": [
      "Image 1:   0%|          | 0/46 [00:00<?, ?it/s]"
     ]
    },
    {
     "name": "stderr",
     "output_type": "stream",
     "text": [
      "Image 46: 100%|██████████| 46/46 [00:03<00:00, 13.71it/s]\n"
     ]
    }
   ],
   "source": [
    "kp, des = test1.ft_extract()"
   ]
  },
  {
   "cell_type": "code",
   "execution_count": 4,
   "metadata": {},
   "outputs": [],
   "source": [
    "i=0 #ith img\n",
    "n_ft = des[i][1].shape[0]\n",
    "\n",
    "\n",
    "j=0 #jth feature\n",
    "x = des[i][0][j].pt[0]\n",
    "y = des[i][0][j].pt[1]\n",
    "scale = des[i][0][j].size\n",
    "scale = des[i][0][j].angle\n",
    "\n",
    "D = des[i][1][j]"
   ]
  },
  {
   "cell_type": "code",
   "execution_count": 5,
   "metadata": {},
   "outputs": [
    {
     "name": "stdout",
     "output_type": "stream",
     "text": [
      "\n",
      "MATCHING...\n",
      "\n"
     ]
    },
    {
     "name": "stderr",
     "output_type": "stream",
     "text": [
      "(0, 1):   0%|          | 0/45 [00:00<?, ?it/s]"
     ]
    },
    {
     "name": "stderr",
     "output_type": "stream",
     "text": [
      "(44, 45): 100%|██████████| 45/45 [00:23<00:00,  1.94it/s]                         "
     ]
    },
    {
     "name": "stdout",
     "output_type": "stream",
     "text": [
      "Elapsed Time: 23.1892409324646\n",
      "\n",
      "\n"
     ]
    },
    {
     "name": "stderr",
     "output_type": "stream",
     "text": [
      "\n"
     ]
    }
   ],
   "source": [
    "matches = test1.ft_match()"
   ]
  },
  {
   "cell_type": "code",
   "execution_count": 120,
   "metadata": {},
   "outputs": [],
   "source": [
    "lol = matches[(0,1)][24]\n"
   ]
  },
  {
   "cell_type": "code",
   "execution_count": 122,
   "metadata": {},
   "outputs": [
    {
     "data": {
      "text/plain": [
       "77"
      ]
     },
     "execution_count": 122,
     "metadata": {},
     "output_type": "execute_result"
    }
   ],
   "source": [
    "'''\n",
    "img1.png img2.png\n",
    "queryIdx trainIdx\n",
    "...\n",
    "<empty-line>\n",
    "\n",
    "\n",
    "'''"
   ]
  },
  {
   "cell_type": "code",
   "execution_count": 6,
   "metadata": {},
   "outputs": [
    {
     "data": {
      "text/plain": [
       "<matplotlib.image.AxesImage at 0x17e4b1360>"
      ]
     },
     "execution_count": 6,
     "metadata": {},
     "output_type": "execute_result"
    },
    {
     "data": {
      "image/png": "[encoded data removed]",
      "text/plain": [
       "<Figure size 1280x960 with 1 Axes>"
      ]
     },
     "metadata": {},
     "output_type": "display_data"
    }
   ],
   "source": [
    "adj_list, pairs = test1.adj_list()\n",
    "plt.imshow(adj_list)"
   ]
  },
  {
   "cell_type": "code",
   "execution_count": 7,
   "metadata": {},
   "outputs": [],
   "source": [
    "bpair = r.best_pair(test1.adj, test1.good, test1.kp, test1.K)\n",
    "\n",
    "r0, t0, r1, t1, p3d_with_views = r.init_rec(test1.kp, test1.good, test1.K, bpair[0], bpair[1])\n",
    "R_mats = {bpair[0]: r0, bpair[1]: r1}\n",
    "t_vecs = {bpair[0]: t0, bpair[1]: t1}\n",
    "\n",
    "resec_img = [bpair[0], bpair[1]]\n",
    "unres_img = [i for i in range(len(test1.im)) if i not in resec_img]\n",
    "\n",
    "n_imgs = test1.n\n",
    "avg_err = 0"
   ]
  },
  {
   "cell_type": "code",
   "execution_count": 8,
   "metadata": {},
   "outputs": [
    {
     "name": "stdout",
     "output_type": "stream",
     "text": [
      "   Iteration     Total nfev        Cost      Cost reduction    Step norm     Optimality   \n",
      "       0              1         2.0212e+06                                    1.60e+07    \n",
      "       1              2         8.8752e+04      1.93e+06       8.74e+00       1.98e+06    \n",
      "       2              3         8.8057e+02      8.79e+04       3.97e+00       1.42e+05    \n",
      "       3              5         6.4891e+02      2.32e+02       1.75e+00       7.98e+04    \n",
      "       4              6         5.4411e+02      1.05e+02       2.84e+00       1.61e+05    \n",
      "       5              7         4.5079e+02      9.33e+01       8.29e-01       5.11e+04    \n",
      "       6              8         3.8695e+02      6.38e+01       4.87e-01       1.90e+04    \n",
      "       7              9         3.8408e+02      2.88e+00       2.71e-01       7.18e+03    \n",
      "`ftol` termination condition is satisfied.\n",
      "Function evaluations 9, initial cost 2.0212e+06, final cost 3.8408e+02, first-order optimality 7.18e+03.\n",
      "   Iteration     Total nfev        Cost      Cost reduction    Step norm     Optimality   \n",
      "       0              1         6.0399e+04                                    2.45e+06    \n",
      "       1              2         2.8604e+03      5.75e+04       5.50e+00       4.78e+05    \n",
      "`ftol` termination condition is satisfied.\n",
      "Function evaluations 2, initial cost 6.0399e+04, final cost 2.8604e+03, first-order optimality 4.78e+05.\n",
      "   Iteration     Total nfev        Cost      Cost reduction    Step norm     Optimality   \n",
      "       0              1         2.8604e+03                                    4.78e+05    \n",
      "       1              2         9.3066e+02      1.93e+03       3.04e+00       1.11e+05    \n",
      "       2              3         7.2880e+02      2.02e+02       4.07e+00       5.08e+04    \n",
      "       3              4         6.9761e+02      3.12e+01       1.63e-01       2.60e+02    \n",
      "`ftol` termination condition is satisfied.\n",
      "Function evaluations 4, initial cost 2.8604e+03, final cost 6.9761e+02, first-order optimality 2.60e+02.\n",
      "   Iteration     Total nfev        Cost      Cost reduction    Step norm     Optimality   \n",
      "       0              1         2.2779e+07                                    4.73e+07    \n",
      "       1              3         1.0901e+07      1.19e+07       8.88e+02       1.18e+07    \n",
      "       2              6         1.0050e+07      8.51e+05       1.17e+02       9.59e+06    \n",
      "`ftol` termination condition is satisfied.\n",
      "Function evaluations 6, initial cost 2.2779e+07, final cost 1.0050e+07, first-order optimality 9.59e+06.\n",
      "   Iteration     Total nfev        Cost      Cost reduction    Step norm     Optimality   \n",
      "       0              1         1.0840e+07                                    9.59e+06    \n",
      "       1              5         1.0162e+07      6.78e+05       6.12e+01       7.53e+06    \n",
      "`ftol` termination condition is satisfied.\n",
      "Function evaluations 5, initial cost 1.0840e+07, final cost 1.0162e+07, first-order optimality 7.53e+06.\n",
      "   Iteration     Total nfev        Cost      Cost reduction    Step norm     Optimality   \n",
      "       0              1         1.0305e+09                                    3.97e+10    \n",
      "       1              2         4.9319e+08      5.37e+08       6.04e+05       5.37e+09    \n",
      "       2              4         1.9296e+08      3.00e+08       3.42e+04       5.42e+09    \n",
      "       3              6         7.4363e+07      1.19e+08       6.22e+03       2.12e+09    \n",
      "       4              7         2.5622e+07      4.87e+07       2.10e+04       3.22e+08    \n",
      "       5              9         1.6851e+07      8.77e+06       1.86e+03       1.38e+08    \n",
      "       6             10         1.1733e+07      5.12e+06       5.11e+03       7.02e+07    \n",
      "       7             12         1.0303e+07      1.43e+06       1.75e+03       6.27e+07    \n",
      "       8             13         9.0701e+06      1.23e+06       3.63e+03       2.33e+08    \n",
      "       9             15         7.9468e+06      1.12e+06       3.67e+02       3.85e+07    \n",
      "      10             16         7.1868e+06      7.60e+05       1.19e+03       3.27e+07    \n",
      "`ftol` termination condition is satisfied.\n",
      "Function evaluations 16, initial cost 1.0305e+09, final cost 7.1868e+06, first-order optimality 3.27e+07.\n",
      "   Iteration     Total nfev        Cost      Cost reduction    Step norm     Optimality   \n",
      "       0              1         5.1741e+07                                    4.54e+09    \n",
      "       1              3         4.5408e+07      6.33e+06       5.69e+05       8.65e+08    \n",
      "       2              4         2.8675e+07      1.67e+07       8.58e+04       7.09e+08    \n",
      "       3              5         1.1985e+07      1.67e+07       6.14e+04       3.11e+08    \n",
      "       4              6         1.0472e+07      1.51e+06       2.19e+05       4.92e+09    \n",
      "       5              7         7.4852e+06      2.99e+06       1.07e+05       5.21e+08    \n",
      "       6              9         6.6438e+06      8.41e+05       8.17e+04       6.96e+08    \n",
      "       7             10         6.3756e+06      2.68e+05       1.74e+05       8.64e+08    \n",
      "`ftol` termination condition is satisfied.\n",
      "Function evaluations 10, initial cost 5.1741e+07, final cost 6.3756e+06, first-order optimality 8.64e+08.\n",
      "   Iteration     Total nfev        Cost      Cost reduction    Step norm     Optimality   \n",
      "       0              1         3.3985e+08                                    2.05e+09    \n",
      "       1              3         2.9775e+07      3.10e+08       1.83e+06       4.35e+08    \n",
      "       2              4         2.2012e+07      7.76e+06       8.29e+05       3.04e+08    \n",
      "       3              5         7.1802e+06      1.48e+07       5.66e+05       1.26e+08    \n",
      "       4              6         6.0470e+06      1.13e+06       2.62e+06       1.99e+08    \n",
      "       5              8         5.8158e+06      2.31e+05       5.40e+05       5.42e+08    \n",
      "`ftol` termination condition is satisfied.\n",
      "Function evaluations 8, initial cost 3.3985e+08, final cost 5.8158e+06, first-order optimality 5.42e+08.\n",
      "   Iteration     Total nfev        Cost      Cost reduction    Step norm     Optimality   \n",
      "       0              1         6.7227e+06                                    5.42e+08    \n",
      "       1              3         6.3383e+06      3.84e+05       1.04e+07       6.54e+07    \n",
      "       2              5         5.1354e+06      1.20e+06       2.99e+05       4.92e+07    \n",
      "`ftol` termination condition is satisfied.\n",
      "Function evaluations 5, initial cost 6.7227e+06, final cost 5.1354e+06, first-order optimality 4.92e+07.\n",
      "   Iteration     Total nfev        Cost      Cost reduction    Step norm     Optimality   \n",
      "       0              1         5.1354e+06                                    4.92e+07    \n",
      "       1              4         4.9491e+06      1.86e+05       2.62e+06       8.36e+08    \n",
      "`ftol` termination condition is satisfied.\n",
      "Function evaluations 4, initial cost 5.1354e+06, final cost 4.9491e+06, first-order optimality 8.36e+08.\n",
      "   Iteration     Total nfev        Cost      Cost reduction    Step norm     Optimality   \n",
      "       0              1         5.2214e+06                                    8.36e+08    \n",
      "       1              5         4.8262e+06      3.95e+05       1.89e+06       6.11e+08    \n",
      "`ftol` termination condition is satisfied.\n",
      "Function evaluations 5, initial cost 5.2214e+06, final cost 4.8262e+06, first-order optimality 6.11e+08.\n",
      "   Iteration     Total nfev        Cost      Cost reduction    Step norm     Optimality   \n",
      "       0              1         5.0748e+06                                    6.11e+08    \n",
      "       1              4         5.0406e+06      3.42e+04       2.12e+07       3.25e+07    \n",
      "       2              6         4.6038e+06      4.37e+05       7.61e+05       2.98e+08    \n",
      "`ftol` termination condition is satisfied.\n",
      "Function evaluations 6, initial cost 5.0748e+06, final cost 4.6038e+06, first-order optimality 2.98e+08.\n",
      "   Iteration     Total nfev        Cost      Cost reduction    Step norm     Optimality   \n",
      "       0              1         3.8151e+11                                    1.71e+16    \n",
      "       1              2         8.8970e+10      2.93e+11       8.90e+07       2.06e+15    \n",
      "       2              3         1.5671e+10      7.33e+10       3.60e+07       2.17e+14    \n",
      "       3              4         2.5805e+09      1.31e+10       4.99e+07       1.14e+13    \n",
      "       4              6         1.0416e+09      1.54e+09       9.34e+06       6.68e+12    \n",
      "       5              7         2.4204e+08      8.00e+08       8.14e+06       4.89e+10    \n",
      "       6              8         2.7754e+07      2.14e+08       1.52e+06       4.04e+08    \n",
      "       7             10         1.5974e+07      1.18e+07       4.87e+05       7.12e+08    \n",
      "       8             11         8.0085e+06      7.97e+06       1.69e+05       3.58e+07    \n",
      "       9             12         6.8595e+06      1.15e+06       4.55e+05       2.87e+07    \n",
      "      10             13         6.2101e+06      6.49e+05       2.11e+06       1.60e+09    \n",
      "`ftol` termination condition is satisfied.\n",
      "Function evaluations 13, initial cost 3.8151e+11, final cost 6.2101e+06, first-order optimality 1.60e+09.\n",
      "   Iteration     Total nfev        Cost      Cost reduction    Step norm     Optimality   \n",
      "       0              1         1.7315e+10                                    1.19e+12    \n",
      "       1              2         5.0947e+09      1.22e+10       1.06e+09       1.63e+11    \n",
      "       2              3         1.5924e+09      3.50e+09       4.86e+09       2.08e+10    \n",
      "       3              6         1.1068e+09      4.86e+08       1.84e+08       1.66e+10    \n",
      "       4              7         9.0301e+07      1.02e+09       3.18e+08       8.60e+08    \n",
      "       5              8         1.9214e+07      7.11e+07       7.89e+08       7.14e+07    \n",
      "       6             11         1.2059e+07      7.15e+06       6.10e+07       2.64e+07    \n",
      "       7             12         1.0987e+07      1.07e+06       2.14e+07       3.54e+07    \n",
      "`ftol` termination condition is satisfied.\n",
      "Function evaluations 12, initial cost 1.7315e+10, final cost 1.0987e+07, first-order optimality 3.54e+07.\n",
      "Too few correspondences: (5, 6)\n",
      "   Iteration     Total nfev        Cost      Cost reduction    Step norm     Optimality   \n",
      "       0              1         1.0070e+08                                    1.58e+09    \n",
      "       1              4         6.5092e+07      3.56e+07       1.54e+09       3.61e+09    \n",
      "       2              5         1.8684e+07      4.64e+07       9.92e+08       6.36e+08    \n",
      "       3              6         1.1606e+07      7.08e+06       5.63e+09       6.92e+07    \n",
      "       4              8         9.8726e+06      1.73e+06       1.91e+09       2.82e+07    \n",
      "       5              9         8.8916e+06      9.81e+05       1.80e+09       7.26e+06    \n",
      "`ftol` termination condition is satisfied.\n",
      "Function evaluations 9, initial cost 1.0070e+08, final cost 8.8916e+06, first-order optimality 7.26e+06.\n",
      "Too few correspondences: (6, 7)\n",
      "   Iteration     Total nfev        Cost      Cost reduction    Step norm     Optimality   \n",
      "       0              1         9.3316e+07                                    7.41e+08    \n",
      "       1              4         2.5043e+07      6.83e+07       1.06e+11       1.22e+08    \n",
      "       2              6         1.4492e+07      1.06e+07       4.04e+11       3.52e+07    \n",
      "       3              8         1.2202e+07      2.29e+06       6.81e+10       8.04e+06    \n",
      "       4             10         1.1406e+07      7.96e+05       1.25e+10       7.53e+06    \n",
      "`ftol` termination condition is satisfied.\n",
      "Function evaluations 10, initial cost 9.3316e+07, final cost 1.1406e+07, first-order optimality 7.53e+06.\n",
      "Too few correspondences: (7, 8)\n",
      "   Iteration     Total nfev        Cost      Cost reduction    Step norm     Optimality   \n",
      "       0              1         7.3336e+07                                    8.68e+08    \n",
      "       1              3         5.2737e+07      2.06e+07       2.30e+13       8.59e+08    \n",
      "       2              4         1.5053e+07      3.77e+07       6.56e+13       2.71e+08    \n",
      "       3              6         1.0456e+07      4.60e+06       1.14e+14       6.03e+07    \n",
      "       4              8         9.0800e+06      1.38e+06       9.91e+11       3.23e+07    \n",
      "       5              9         8.1809e+06      8.99e+05       2.25e+12       2.02e+07    \n",
      "`ftol` termination condition is satisfied.\n",
      "Function evaluations 9, initial cost 7.3336e+07, final cost 8.1809e+06, first-order optimality 2.02e+07.\n",
      "Too few correspondences: (8, 9)\n",
      "   Iteration     Total nfev        Cost      Cost reduction    Step norm     Optimality   \n",
      "       0              1         2.8927e+07                                    1.49e+08    \n",
      "       1              3         1.1818e+07      1.71e+07       6.25e+16       1.34e+08    \n",
      "       2              5         9.2874e+06      2.53e+06       9.25e+16       1.01e+09    \n",
      "       3              6         7.1667e+06      2.12e+06       1.46e+17       1.56e+08    \n",
      "       4              8         7.0152e+06      1.52e+05       5.59e+15       3.57e+07    \n",
      "`ftol` termination condition is satisfied.\n",
      "Function evaluations 8, initial cost 2.8927e+07, final cost 7.0152e+06, first-order optimality 3.57e+07.\n",
      "Too few correspondences: (9, 10)\n",
      "   Iteration     Total nfev        Cost      Cost reduction    Step norm     Optimality   \n",
      "       0              1         4.6024e+07                                    3.02e+08    \n",
      "       1              4         1.3940e+07      3.21e+07       7.29e+19       2.11e+08    \n",
      "       2              5         7.2132e+06      6.73e+06       3.71e+19       6.74e+07    \n",
      "       3              7         6.6184e+06      5.95e+05       6.40e+20       4.63e+06    \n",
      "`ftol` termination condition is satisfied.\n",
      "Function evaluations 7, initial cost 4.6024e+07, final cost 6.6184e+06, first-order optimality 4.63e+06.\n",
      "Too few correspondences: (10, 11)\n",
      "   Iteration     Total nfev        Cost      Cost reduction    Step norm     Optimality   \n",
      "       0              1         9.5120e+06                                    8.10e+06    \n",
      "       1              5         7.2766e+06      2.24e+06       1.33e+24       1.46e+07    \n",
      "       2              8         6.8664e+06      4.10e+05       6.93e+22       8.51e+07    \n",
      "`ftol` termination condition is satisfied.\n",
      "Function evaluations 8, initial cost 9.5120e+06, final cost 6.8664e+06, first-order optimality 8.51e+07.\n",
      "Too few correspondences: (11, 12)\n",
      "   Iteration     Total nfev        Cost      Cost reduction    Step norm     Optimality   \n",
      "       0              1         1.3885e+08                                    2.47e+08    \n",
      "       1              3         5.0807e+07      8.80e+07       1.40e+27       6.99e+08    \n",
      "       2              6         4.0043e+07      1.08e+07       1.67e+25       2.26e+08    \n",
      "       3              7         1.8804e+07      2.12e+07       1.82e+24       8.70e+07    \n",
      "       4              9         1.3613e+07      5.19e+06       2.33e+24       5.05e+07    \n",
      "       5             10         9.2950e+06      4.32e+06       7.95e+24       1.92e+07    \n",
      "       6             12         8.3862e+06      9.09e+05       2.27e+25       2.00e+07    \n",
      "`ftol` termination condition is satisfied.\n",
      "Function evaluations 12, initial cost 1.3885e+08, final cost 8.3862e+06, first-order optimality 2.00e+07.\n",
      "Too few correspondences: (12, 13)\n",
      "   Iteration     Total nfev        Cost      Cost reduction    Step norm     Optimality   \n",
      "       0              1         1.2751e+07                                    5.53e+07    \n",
      "       1              5         9.6286e+06      3.12e+06       1.40e+30       7.46e+07    \n",
      "       2              7         8.9424e+06      6.86e+05       1.44e+29       7.51e+07    \n",
      "`ftol` termination condition is satisfied.\n",
      "Function evaluations 7, initial cost 1.2751e+07, final cost 8.9424e+06, first-order optimality 7.51e+07.\n",
      "Too few correspondences: (13, 14)\n",
      "   Iteration     Total nfev        Cost      Cost reduction    Step norm     Optimality   \n",
      "       0              1         1.8237e+07                                    1.06e+08    \n",
      "       1              4         1.1162e+07      7.08e+06       9.36e+32       1.37e+08    \n",
      "       2              7         9.4850e+06      1.68e+06       2.02e+32       1.76e+07    \n",
      "       3              9         8.8969e+06      5.88e+05       7.62e+30       1.17e+07    \n",
      "`ftol` termination condition is satisfied.\n",
      "Function evaluations 9, initial cost 1.8237e+07, final cost 8.8969e+06, first-order optimality 1.17e+07.\n",
      "Too few correspondences: (14, 15)\n",
      "   Iteration     Total nfev        Cost      Cost reduction    Step norm     Optimality   \n",
      "       0              1         7.0218e+08                                    6.67e+09    \n",
      "       1              4         2.7337e+08      4.29e+08       8.96e+35       7.03e+08    \n",
      "       2              5         8.0566e+07      1.93e+08       3.72e+34       3.50e+10    \n",
      "       3              6         2.4286e+07      5.63e+07       1.18e+36       5.64e+09    \n",
      "       4              8         1.5590e+07      8.70e+06       7.02e+36       5.01e+09    \n",
      "       5              9         1.0485e+07      5.10e+06       1.23e+33       8.13e+08    \n",
      "       6             10         9.3230e+06      1.16e+06       1.65e+34       1.14e+08    \n",
      "       7             12         9.1694e+06      1.54e+05       3.07e+34       4.21e+08    \n",
      "`ftol` termination condition is satisfied.\n",
      "Function evaluations 12, initial cost 7.0218e+08, final cost 9.1694e+06, first-order optimality 4.21e+08.\n",
      "Too few correspondences: (15, 16)\n",
      "   Iteration     Total nfev        Cost      Cost reduction    Step norm     Optimality   \n",
      "       0              1         1.4589e+07                                    4.22e+08    \n",
      "       1              4         1.0267e+07      4.32e+06       1.18e+41       6.09e+07    \n",
      "       2              8         9.4773e+06      7.90e+05       7.70e+38       5.33e+07    \n",
      "`ftol` termination condition is satisfied.\n",
      "Function evaluations 8, initial cost 1.4589e+07, final cost 9.4773e+06, first-order optimality 5.33e+07.\n",
      "Too few correspondences: (16, 17)\n",
      "   Iteration     Total nfev        Cost      Cost reduction    Step norm     Optimality   \n",
      "       0              1         1.8412e+07                                    5.33e+07    \n",
      "       1              5         1.6694e+07      1.72e+06       5.68e+45       2.09e+09    \n",
      "`ftol` termination condition is satisfied.\n",
      "Function evaluations 5, initial cost 1.8412e+07, final cost 1.6694e+07, first-order optimality 2.09e+09.\n",
      "Too few correspondences: (17, 18)\n",
      "   Iteration     Total nfev        Cost      Cost reduction    Step norm     Optimality   \n",
      "       0              1         1.7660e+08                                    9.72e+09    \n",
      "       1              4         4.8773e+07      1.28e+08       1.54e+50       1.62e+09    \n",
      "       2              6         2.7129e+07      2.16e+07       8.36e+47       7.65e+08    \n",
      "       3              8         2.1357e+07      5.77e+06       2.95e+47       5.00e+08    \n",
      "       4             10         1.9209e+07      2.15e+06       1.67e+47       3.97e+08    \n",
      "       5             11         1.6084e+07      3.13e+06       4.29e+47       2.34e+08    \n",
      "       6             12         1.5188e+07      8.96e+05       2.54e+48       8.96e+09    \n",
      "`ftol` termination condition is satisfied.\n",
      "Function evaluations 12, initial cost 1.7660e+08, final cost 1.5188e+07, first-order optimality 8.96e+09.\n",
      "Too few correspondences: (18, 19)\n",
      "   Iteration     Total nfev        Cost      Cost reduction    Step norm     Optimality   \n",
      "       0              1         2.6980e+07                                    8.96e+09    \n",
      "       1              5         1.8192e+07      8.79e+06       2.66e+54       4.46e+10    \n",
      "       2              8         1.6664e+07      1.53e+06       4.21e+51       6.32e+09    \n",
      "`ftol` termination condition is satisfied.\n",
      "Function evaluations 8, initial cost 2.6980e+07, final cost 1.6664e+07, first-order optimality 6.32e+09.\n",
      "Too few correspondences: (19, 20)\n",
      "   Iteration     Total nfev        Cost      Cost reduction    Step norm     Optimality   \n",
      "       0              1         2.3145e+07                                    6.32e+09    \n",
      "       1              4         1.6976e+07      6.17e+06       1.93e+59       6.50e+09    \n",
      "       2              6         1.5686e+07      1.29e+06       5.68e+56       1.23e+10    \n",
      "`ftol` termination condition is satisfied.\n",
      "Function evaluations 6, initial cost 2.3145e+07, final cost 1.5686e+07, first-order optimality 1.23e+10.\n",
      "Too few correspondences: (20, 21)\n",
      "   Iteration     Total nfev        Cost      Cost reduction    Step norm     Optimality   \n",
      "       0              1         4.9585e+08                                    2.82e+10    \n",
      "       1              3         4.0369e+08      9.22e+07       1.91e+64       2.27e+11    \n",
      "       2              4         2.0130e+08      2.02e+08       3.85e+61       3.14e+10    \n",
      "       3              5         3.6191e+07      1.65e+08       7.00e+61       2.94e+09    \n",
      "       4              6         1.2218e+07      2.40e+07       8.27e+62       7.82e+09    \n",
      "       5              8         1.1391e+07      8.27e+05       2.95e+63       3.43e+10    \n",
      "`ftol` termination condition is satisfied.\n",
      "Function evaluations 8, initial cost 4.9585e+08, final cost 1.1391e+07, first-order optimality 3.43e+10.\n"
     ]
    }
   ],
   "source": [
    "\n",
    "BA_chkpts = [3,4,5,6] + [int(6*(1.34**i)) for i in range(25)]\n",
    "inc = 0\n",
    "while len(unres_img) > 0:\n",
    "    res_idx, unres_idx, prepend = r.nxt_img_pair_to_grow_recon(n_imgs, bpair, resec_img, unres_img, adj_list, inc)\n",
    "    p3d_with_views, p3d_for_pnp, p2d_for_pnp, tri_stat = r.get_corr_for_pnp(res_idx, unres_idx, p3d_with_views, matches, kp)\n",
    "\n",
    "    if len(p3d_for_pnp) < 12:\n",
    "        print(f\"Too few correspondences: {res_idx, unres_idx}\")\n",
    "        inc += 1\n",
    "        unres_img.remove(unres_idx)\n",
    "        # print(f\"<{len(p3d_for_pnp)}>\", sep=\" \")\n",
    "        continue\n",
    "\n",
    "    # print(len(unres_img), sep=\" \")\n",
    "    R_res = R_mats[res_idx]\n",
    "    t_res = t_vecs[res_idx]\n",
    "\n",
    "    R_new, t_new = r.do_pnp(p3d_for_pnp, p2d_for_pnp, test1.K)\n",
    "    \n",
    "    R_mats[unres_idx] = R_new\n",
    "    t_vecs[unres_idx] = t_new\n",
    "\n",
    "    if prepend == True:\n",
    "        resec_img.insert(0, unres_idx)\n",
    "    else:\n",
    "        resec_img.append(unres_idx)\n",
    "\n",
    "    \n",
    "    unres_img.remove(unres_idx)\n",
    "    \n",
    "\n",
    "    pnp_err, proj_pts, avg_err, perc_inl = r.test_reproj_pnp_pts(p3d_for_pnp, p2d_for_pnp, R_new, t_new, K)\n",
    "\n",
    "\n",
    "    if res_idx < unres_idx:\n",
    "        kp1, kp2, kp1_idx, kp2_idx = r.get_aligned_pts(res_idx, unres_idx, kp, matches, mask=tri_stat)\n",
    "        if np.sum(tri_stat) > 0: # at least one point needs to be triangulated\n",
    "            p3d_with_views, tri_err, avg_tri_err_l, avg_tri_err_r = r.triangulate_pts_and_reproj(\n",
    "                R_res, t_res, R_new, t_new, K, p3d_with_views, res_idx, unres_idx, kp1, kp2, kp1_idx, kp2_idx, reproj=True\n",
    "            )\n",
    "    else:\n",
    "        kp1, kp2, kp1_idx, kp2_idx = r.get_aligned_pts(unres_idx, res_idx, kp, matches, mask=tri_stat)\n",
    "        if np.sum(tri_stat) > 0: # at least one point needs to be triangulated\n",
    "            p3d_with_views, tri_err, avg_tri_err_l, avg_tri_err_r = r.triangulate_pts_and_reproj(\n",
    "                R_new, t_new, R_res, t_res, K, p3d_with_views, unres_idx, res_idx, kp1, kp2, kp1_idx, kp2_idx, reproj=True\n",
    "            )\n",
    "\n",
    "    if (0.8 < perc_inl < 0.95) or (5 < avg_tri_err_l < 10) or (5 < avg_tri_err_r < 10):\n",
    "        p3d_with_views, R_mats, t_vecs = ba.do_BA(\n",
    "            p3d_with_views, R_mats, t_vecs, resec_img, kp, K, ftol=1e0\n",
    "        )\n",
    "\n",
    "    if (len(resec_img) in BA_chkpts) or (len(unres_img) == 0) or (perc_inl <= 0.8) or (avg_tri_err_l >= 10) or (avg_tri_err_r >= 10):\n",
    "        p3d_with_views, R_mats, t_vecs = ba.do_BA(\n",
    "            p3d_with_views, R_mats, t_vecs, resec_img, kp, K, ftol=1e-1\n",
    "        )"
   ]
  },
  {
   "cell_type": "code",
   "execution_count": null,
   "metadata": {},
   "outputs": [],
   "source": [
    "n_vox = 200 #100 for faster vis, 200 for higher res\n",
    "\n",
    "x, y, z = [], [], []\n",
    "\n",
    "\n",
    "for pt3 in p3d_with_views:\n",
    "    if abs(pt3.p3d[0][0]) + abs(pt3.p3d[0][1]) + abs(pt3.p3d[0][2]) < 100:\n",
    "        x.append(pt3.p3d[0][0])\n",
    "        y.append(pt3.p3d[0][1])\n",
    "        z.append(pt3.p3d[0][2])\n",
    "\n",
    "\n",
    "vpoints = list(zip(x,y,z))\n",
    "vpoints = np.array(vpoints)\n",
    "vpoints_df = pd.DataFrame(data=vpoints, index=[f\"{i}\" for i in range(vpoints.shape[0])], columns=[\"x\", \"y\",\"z\"])\n",
    "cloud = pyntcloud.PyntCloud(vpoints_df)\n",
    "cloud.add_structure('voxelgrid', n_x=n_vox,n_y=n_vox,n_z=n_vox)\n",
    "cloud.structures[f'V([{n_vox}, {n_vox}, {n_vox}],[None, None, None],True)'].plot(d=3)"
   ]
  }
 ],
 "metadata": {
  "kernelspec": {
   "display_name": "venv",
   "language": "python",
   "name": "python3"
  },
  "language_info": {
   "codemirror_mode": {
    "name": "ipython",
    "version": 3
   },
   "file_extension": ".py",
   "mimetype": "text/x-python",
   "name": "python",
   "nbconvert_exporter": "python",
   "pygments_lexer": "ipython3",
   "version": "3.10.0"
  }
 },
 "nbformat": 4,
 "nbformat_minor": 2
}
