{
 "cells": [
  {
   "cell_type": "code",
   "execution_count": 1,
   "metadata": {},
   "outputs": [],
   "source": [
    "%reload_ext autoreload\n",
    "%autoreload 2\n",
    "import numpy as np\n",
    "from SFM import SFM\n",
    "import cv2\n",
    "import matplotlib as mpl\n",
    "import matplotlib.pyplot as plt\n",
    "from sfm_helpers import Rec as r\n",
    "from sfm_helpers import BA as ba\n",
    "import pandas as pd\n",
    "\n",
    "%matplotlib inline\n",
    "mpl.rcParams['figure.dpi']= 200"
   ]
  },
  {
   "cell_type": "code",
   "execution_count": 2,
   "metadata": {},
   "outputs": [
    {
     "name": "stderr",
     "output_type": "stream",
     "text": [
      "templeR_par.txt: 100%|██████████| 49/49 [00:00<00:00, 141.52it/s]\n"
     ]
    },
    {
     "name": "stdout",
     "output_type": "stream",
     "text": [
      "README.txt is not an img...\n",
      "\n",
      "templeR_ang.txt is not an img...\n",
      "\n",
      "templeR_par.txt is not an img...\n",
      "\n"
     ]
    }
   ],
   "source": [
    "# path = \"test1/imgs\"\n",
    "path, K = \"datasets/templeRing\", np.matrix('1520.40 0.00 302.32; 0.00 1525.90 246.87; 0.00 0.00 1.00')\n",
    "# path = \"test1/7_1b_imgs_4\"\n",
    "\n",
    "\n",
    "test1 = SFM(path, K)"
   ]
  },
  {
   "cell_type": "code",
   "execution_count": 4,
   "metadata": {},
   "outputs": [
    {
     "name": "stdout",
     "output_type": "stream",
     "text": [
      "\n",
      "\n",
      "FEATURE EXTRACTION....\n"
     ]
    },
    {
     "name": "stderr",
     "output_type": "stream",
     "text": [
      "Image 46: 100%|██████████| 46/46 [00:02<00:00, 20.60it/s]\n"
     ]
    }
   ],
   "source": [
    "kp, des = test1.ft_extract()"
   ]
  },
  {
   "cell_type": "code",
   "execution_count": 5,
   "metadata": {},
   "outputs": [
    {
     "name": "stdout",
     "output_type": "stream",
     "text": [
      "\n",
      "MATCHING...\n",
      "\n"
     ]
    },
    {
     "name": "stderr",
     "output_type": "stream",
     "text": [
      "(44, 45): 100%|██████████| 45/45 [00:14<00:00,  3.16it/s]                         "
     ]
    },
    {
     "name": "stdout",
     "output_type": "stream",
     "text": [
      "Elapsed Time: 14.23402190208435\n",
      "\n",
      "\n"
     ]
    },
    {
     "name": "stderr",
     "output_type": "stream",
     "text": [
      "\n"
     ]
    }
   ],
   "source": [
    "matches = test1.ft_match()"
   ]
  },
  {
   "cell_type": "code",
   "execution_count": 6,
   "metadata": {},
   "outputs": [
    {
     "data": {
      "text/plain": [
       "<matplotlib.image.AxesImage at 0x14a17c5b0>"
      ]
     },
     "execution_count": 6,
     "metadata": {},
     "output_type": "execute_result"
    },
    {
     "data": {
      "image/png": "[encoded data removed]",
      "text/plain": [
       "<Figure size 1280x960 with 1 Axes>"
      ]
     },
     "metadata": {},
     "output_type": "display_data"
    }
   ],
   "source": [
    "adj_list, pairs = test1.adj_list()\n",
    "plt.imshow(adj_list)"
   ]
  },
  {
   "cell_type": "code",
   "execution_count": 7,
   "metadata": {},
   "outputs": [],
   "source": [
    "bpair = r.best_pair(test1.adj, test1.good, test1.kp, test1.K)\n",
    "r0, t0, r1, t1, p3d_with_views = r.init_rec(test1.kp, test1.good, test1.K, bpair[0], bpair[1])\n",
    "R_mats = {bpair[0]: r0, bpair[1]: r1}\n",
    "t_vecs = {bpair[0]: t0, bpair[1]: t1}\n",
    "\n",
    "resec_img = [bpair[0], bpair[1]]\n",
    "unres_img = [i for i in range(len(test1.im)) if i not in resec_img]"
   ]
  },
  {
   "cell_type": "code",
   "execution_count": 8,
   "metadata": {},
   "outputs": [
    {
     "data": {
      "text/plain": [
       "(44, 45)"
      ]
     },
     "execution_count": 8,
     "metadata": {},
     "output_type": "execute_result"
    }
   ],
   "source": [
    "bpair"
   ]
  },
  {
   "cell_type": "code",
   "execution_count": 10,
   "metadata": {},
   "outputs": [],
   "source": [
    "n_imgs = test1.n\n",
    "avg_err = 0"
   ]
  },
  {
   "cell_type": "code",
   "execution_count": 12,
   "metadata": {},
   "outputs": [],
   "source": [
    "BA_chkpts = [3,4,5,6] + [int(6*(1.34**i)) for i in range(25)]\n",
    "while len(unres_img) > 0:\n",
    "    res_idx, unres_idx, prepend = r.nxt_img_pair_to_grow_recon(n_imgs, bpair, resec_img, unres_img, adj_list)\n",
    "    p3d_with_views, p3d_for_pnp, p2d_for_pnp, tri_stat = r.get_corr_for_pnp(res_idx, unres_idx, p3d_with_views, matches, kp)\n",
    "\n",
    "    if len(p3d_for_pnp) < 12:\n",
    "        # print(f\"Too few correspondences\")\n",
    "        continue\n",
    "\n",
    "    R_res = R_mats[res_idx]\n",
    "    t_res = t_vecs[res_idx]\n",
    "\n",
    "    R_new, t_new = r.do_pnp(p3d_for_pnp, p2d_for_pnp, test1.K)\n",
    "    \n",
    "    R_mats[unres_idx] = R_new\n",
    "    t_vecs[unres_idx] = t_new\n",
    "\n",
    "    if prepend == True:\n",
    "        resec_img.insert(0, unres_idx)\n",
    "    else:\n",
    "        resec_img.append(unres_idx)\n",
    "\n",
    "    unres_img.remove(unres_idx)\n",
    "\n",
    "    pnp_err, proj_pts, avg_err, perc_inl = r.test_reproj_pnp_pts(p3d_for_pnp, p2d_for_pnp, R_new, t_new, K)\n",
    "\n",
    "\n",
    "    if res_idx < unres_idx:\n",
    "        kp1, kp2, kp1_idx, kp2_idx = r.get_aligned_pts(res_idx, unres_idx, kp, matches, mask=tri_stat)\n",
    "        if np.sum(tri_stat) > 0: # at least one point needs to be triangulated\n",
    "            p3d_with_views, tri_err, avg_tri_err_l, avg_tri_err_r = r.triangulate_pts_and_reproj(\n",
    "                R_res, t_res, R_new, t_new, K, p3d_with_views, res_idx, unres_idx, kp1, kp2, kp1_idx, kp2_idx, reproj=True\n",
    "            )\n",
    "    else:\n",
    "        kp1, kp2, kp1_idx, kp2_idx = r.get_aligned_pts(unres_idx, res_idx, kp, matches, mask=tri_stat)\n",
    "        if np.sum(tri_stat) > 0: # at least one point needs to be triangulated\n",
    "            p3d_with_views, tri_err, avg_tri_err_l, avg_tri_err_r = r.triangulate_pts_and_reproj(\n",
    "                R_new, t_new, R_res, t_res, K, p3d_with_views, unres_idx, res_idx, kp1, kp2, kp1_idx, kp2_idx, reproj=True\n",
    "            )\n",
    "\n",
    "    if (0.8 < perc_inl < 0.95) or (5 < avg_tri_err_l < 10) or (5 < avg_tri_err_r < 10):\n",
    "        p3d_with_views, R_mats, t_vecs = ba.do_BA(\n",
    "            p3d_with_views, R_mats, t_vecs, resec_img, kp, K, ftol=1e0\n",
    "        )\n",
    "\n",
    "    if (len(resec_img) in BA_chkpts) or (len(unres_img) == 0) or (perc_inl <= 0.8) or (avg_tri_err_l >= 10) or (avg_tri_err_r >= 10):\n",
    "        p3d_with_views, R_mats, t_vecs = ba.do_BA(\n",
    "            p3d_with_views, R_mats, t_vecs, resec_img, kp, K, ftol=1e-1\n",
    "        )"
   ]
  },
  {
   "cell_type": "code",
   "execution_count": null,
   "metadata": {},
   "outputs": [],
   "source": [
    "n_vox = 200 #100 for faster vis, 200 for higher res\n",
    "\n",
    "x, y, z = [], [], []\n",
    "\n",
    "\n",
    "for pt3 in p3d_with_views:\n",
    "    if abs(pt3.p3d[0][0]) + abs(pt3.p3d[0][1]) + abs(pt3.p3d[0][2]) < 100:\n",
    "        x.append(pt3.p3d[0][0])\n",
    "        y.append(pt3.p3d[0][1])\n",
    "        z.append(pt3.p3d[0][2])"
   ]
  }
 ],
 "metadata": {
  "kernelspec": {
   "display_name": "venv",
   "language": "python",
   "name": "python3"
  },
  "language_info": {
   "codemirror_mode": {
    "name": "ipython",
    "version": 3
   },
   "file_extension": ".py",
   "mimetype": "text/x-python",
   "name": "python",
   "nbconvert_exporter": "python",
   "pygments_lexer": "ipython3",
   "version": "3.10.0"
  }
 },
 "nbformat": 4,
 "nbformat_minor": 2
}
