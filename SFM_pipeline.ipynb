{
 "cells": [
  {
   "cell_type": "markdown",
   "metadata": {},
   "source": [
    "# SFM PIPELINE"
   ]
  },
  {
   "cell_type": "code",
   "execution_count": null,
   "metadata": {},
   "outputs": [],
   "source": [
    "from sfm import SFM\n",
    "\n",
    "# CHANGE TO IMAGE SOURCE FILE (and db path for pycolmap)\n",
    "img_src = \"\"\n",
    "db_path = \"database.db\""
   ]
  },
  {
   "cell_type": "markdown",
   "metadata": {},
   "source": [
    "## 1. FEATURE EXTRACTION AND MATCHING:\n",
    "Flag options for BRISK-SIFT/SIFT-SIFT and image preprocessing (for obj. isolation)\\\n",
    "\n",
    "BRISK-SIFT (`brisk=True`)\n",
    "- recommended when object has lots of texture\n",
    "\n",
    "SIFT-SIFT (`brisk=False`)\n",
    "- recommended when object has low texture; able to detect more 'subtle' features at the expense of computation"
   ]
  },
  {
   "cell_type": "code",
   "execution_count": null,
   "metadata": {},
   "outputs": [],
   "source": [
    "sfm = SFM(img_src, db_path=db_path, preprocess=False, brisk=True)\n",
    "\n",
    "sfm.ft_extract()\n",
    "sfm.ft_match()"
   ]
  },
  {
   "cell_type": "markdown",
   "metadata": {},
   "source": [
    "## 2. SFM cont'd (3 options)\n",
    "(Triangulation, Bundle Adjustment, Sparse/Dense Reconstruction)\n",
    "1. COLMAP GUI\n",
    "2. PyCOLMAP\n",
    "3. PyCOLMAP and COLMAP GUI \n",
    "\n",
    "**note:** PyCOLMAP (on ft matches) is very inconsistent"
   ]
  },
  {
   "cell_type": "markdown",
   "metadata": {},
   "source": [
    "### 2.1 via COLMAP GUI **recommended**\n",
    "Create a colmap project in `img_src` and import features + feature matches. Continue the reconstruction pipeline from there\\\n",
    "\n",
    "ie. import features (via img path) &rarr; import matches (via match.txt for inlier feature matches) &rarr; start reconstruction &rarr; \\\n",
    "dense: undistort &rarr; stereo &rarr; fusion"
   ]
  },
  {
   "cell_type": "code",
   "execution_count": null,
   "metadata": {},
   "outputs": [],
   "source": [
    "# create .txt files for image features + matches\n",
    "sfm.output()\n",
    "# import these into COLMAP"
   ]
  },
  {
   "cell_type": "markdown",
   "metadata": {},
   "source": [
    "### 2.2 via PyCOLMAP (**PYCOLMAP MUST BE COMPILED WITH CUDA**, ie. built from source)"
   ]
  },
  {
   "cell_type": "code",
   "execution_count": null,
   "metadata": {},
   "outputs": [],
   "source": [
    "# SET DESTINATION FOLDER AND OBJECT NAME\n",
    "dest = \"output\" \n",
    "obj_name = \"object\"\n",
    "sfm.reconstruction_sparse(dest=dest, obj_name=obj_name)\n",
    "sfm.reconstruction_dense(dest=dest, model_folder='/0') # can also change model_folder to '\\1'\n"
   ]
  },
  {
   "cell_type": "markdown",
   "metadata": {},
   "source": [
    "### 2.3a via PyCOLMAP database (contains features + cams only) and COLMAP\n",
    "**recommended**"
   ]
  },
  {
   "cell_type": "code",
   "execution_count": null,
   "metadata": {},
   "outputs": [],
   "source": [
    "dest = \"output\" \n",
    "obj_name = \"object\"\n",
    "sfm.add_cams()\n",
    "sfm.add_ft()\n",
    "sfm.output()\n",
    "# Use .db file + match.txt (inlier matches) in COLMAP GUI"
   ]
  },
  {
   "cell_type": "markdown",
   "metadata": {},
   "source": [
    "### 2.3b via PyCOLMAP (sparse reconstruction) and COLMAP (dense reconstruction)\n",
    "Inconsistent for some datasets"
   ]
  },
  {
   "cell_type": "code",
   "execution_count": null,
   "metadata": {},
   "outputs": [],
   "source": [
    "dest = \"output\" \n",
    "obj_name = \"object\"\n",
    "sfm.reconstruction_sparse(dest=dest, obj_name=obj_name)\n",
    "# Use .db file in COLMAP GUI for dense reconstruction"
   ]
  },
  {
   "cell_type": "markdown",
   "metadata": {},
   "source": [
    "# Surface/Mesh Reconstruction\n",
    "Use resulting dense point cloud .ply files in the [surface reconstruction pipeline](reconstruction_pipeline.ipynb)"
   ]
  }
 ],
 "metadata": {
  "kernelspec": {
   "display_name": "venv",
   "language": "python",
   "name": "python3"
  },
  "language_info": {
   "codemirror_mode": {
    "name": "ipython",
    "version": 3
   },
   "file_extension": ".py",
   "mimetype": "text/x-python",
   "name": "python",
   "nbconvert_exporter": "python",
   "pygments_lexer": "ipython3",
   "version": "3.11.4"
  }
 },
 "nbformat": 4,
 "nbformat_minor": 2
}
