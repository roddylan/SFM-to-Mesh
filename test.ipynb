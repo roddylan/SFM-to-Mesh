{
 "cells": [
  {
   "cell_type": "code",
   "execution_count": null,
   "metadata": {},
   "outputs": [],
   "source": [
    "import cv2 \n",
    "import matplotlib.pyplot as plt\n",
    "import numpy as np\n",
    "from skimage.measure import ransac\n",
    "from skimage.transform import ProjectiveTransform, AffineTransform\n",
    "\n",
    "\n",
    "im1_src = \"test1/imgs/0001.jpg\"\n",
    "# im2_src = \"test/imgs/0852.jpg\"\n",
    "im2_src = \"test1/imgs/0897.jpg\""
   ]
  },
  {
   "cell_type": "code",
   "execution_count": null,
   "metadata": {},
   "outputs": [],
   "source": [
    "brisk = cv2.BRISK_create()\n",
    "\n",
    "sift = cv2.xfeatures2d.SIFT_create()\n",
    "\n",
    "orb = cv2.ORB_create()\n",
    "\n",
    "akaze = cv2.AKAZE_create()\n",
    "\n",
    "# surf = cv2.xfeatures2d.SURF_create(100)\n",
    "\n",
    "# surf = cv2.xfeatures2d.SURF_create(400)\n",
    "\n",
    "\n",
    "im1 = cv2.imread(im1_src)\n",
    "im2 = cv2.imread(im2_src)\n",
    "\n"
   ]
  },
  {
   "cell_type": "code",
   "execution_count": null,
   "metadata": {},
   "outputs": [],
   "source": [
    "norm = cv2.NORM_HAMMING\n",
    "kp1, des1 = brisk.detectAndCompute(im1, None)\n",
    "skp1, _ = sift.detectAndCompute(im1, None)\n",
    "# okp1, _ = orb.detectAndCompute(im1, None)\n",
    "okp1, _ = akaze.detectAndCompute(im1, None)\n",
    "\n",
    "kp2, des2 = brisk.detectAndCompute(im2, None)\n",
    "skp2, _ = sift.detectAndCompute(im2, None)\n",
    "# okp2, _ = orb.detectAndCompute(im2, None)\n",
    "okp2, _ = akaze.detectAndCompute(im2, None)"
   ]
  }
 ],
 "metadata": {
  "kernelspec": {
   "display_name": "venv",
   "language": "python",
   "name": "python3"
  },
  "language_info": {
   "name": "python",
   "version": "3.10.0"
  }
 },
 "nbformat": 4,
 "nbformat_minor": 2
}
