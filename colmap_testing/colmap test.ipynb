{
  "cells": [
    {
      "cell_type": "code",
      "execution_count": null,
      "metadata": {},
      "outputs": [],
      "source": [
        "# IGNORE NOT GONNA WORK ANYMORE"
      ]
    },
    {
      "cell_type": "code",
      "execution_count": 1,
      "metadata": {},
      "outputs": [],
      "source": [
        "%reload_ext autoreload\n",
        "%autoreload 2\n",
        "from SFM import SFM\n",
        "import database\n",
        "import os, shutil, sys\n",
        "import pycolmap, platform\n",
        "import cv2\n",
        "import numpy as np\n",
        "import matplotlib.pyplot as plt"
      ]
    },
    {
      "cell_type": "code",
      "execution_count": 2,
      "metadata": {},
      "outputs": [],
      "source": [
        "src = \"datasets/templeRing\"\n",
        "dest = \"colmap_test_out\"\n",
        "db_path = \"test.db\"\n",
        "\n",
        "try:\n",
        "    os.mkdir(dest)\n",
        "except:\n",
        "    shutil.rmtree(dest)\n",
        "    os.mkdir(dest)"
      ]
    },
    {
      "cell_type": "code",
      "execution_count": 3,
      "metadata": {},
      "outputs": [
        {
          "name": "stderr",
          "output_type": "stream",
          "text": [
            "pairs.txt: 100%|██████████| 48/48 [00:00<00:00, 121.47it/s]\n"
          ]
        },
        {
          "name": "stdout",
          "output_type": "stream",
          "text": [
            "match.txt is not an img...\n",
            "\n",
            "pairs.txt is not an img...\n",
            "\n",
            "\n",
            "\n",
            "FEATURE EXTRACTION....\n"
          ]
        },
        {
          "name": "stderr",
          "output_type": "stream",
          "text": [
            "Image 46: 100%|██████████| 46/46 [00:01<00:00, 32.53it/s]\n"
          ]
        },
        {
          "name": "stdout",
          "output_type": "stream",
          "text": [
            "\n",
            "MATCHING...\n",
            "\n"
          ]
        },
        {
          "name": "stderr",
          "output_type": "stream",
          "text": [
            "(44, 45): 100%|██████████| 45/45 [00:23<00:00,  1.90it/s]                         "
          ]
        },
        {
          "name": "stdout",
          "output_type": "stream",
          "text": [
            "Elapsed Time: 23.674301147460938\n",
            "\n",
            "\n"
          ]
        },
        {
          "name": "stderr",
          "output_type": "stream",
          "text": [
            "\n"
          ]
        }
      ],
      "source": [
        "test = SFM(src)\n",
        "test.ft_extract()\n",
        "matches = test.ft_match()"
      ]
    },
    {
      "cell_type": "code",
      "execution_count": 4,
      "metadata": {},
      "outputs": [],
      "source": [
        "db = database.COLMAPDatabase.connect(db_path)"
      ]
    },
    {
      "cell_type": "code",
      "execution_count": 5,
      "metadata": {},
      "outputs": [
        {
          "data": {
            "text/plain": [
              "<sqlite3.Cursor at 0x2c7cd9100c0>"
            ]
          },
          "execution_count": 5,
          "metadata": {},
          "output_type": "execute_result"
        }
      ],
      "source": [
        "db.create_tables()"
      ]
    },
    {
      "cell_type": "code",
      "execution_count": 6,
      "metadata": {},
      "outputs": [
        {
          "data": {
            "text/plain": [
              "pycolmap.Camera"
            ]
          },
          "execution_count": 6,
          "metadata": {},
          "output_type": "execute_result"
        }
      ],
      "source": [
        "cam_model, cam_model_value, img_w, img_h, cam_params = test.get_camera_info()\n",
        "cam_obj = pycolmap.Camera(camera_id=1, model=cam_model_value, width=img_w, height=img_h, params=cam_params)\n",
        "type(cam_obj)"
      ]
    },
    {
      "cell_type": "code",
      "execution_count": 7,
      "metadata": {},
      "outputs": [],
      "source": [
        "# add camera and images\n",
        "\n",
        "cam = db.add_camera(cam_model_value, img_w, img_h, cam_params)\n",
        "\n",
        "for file in os.listdir(test.src):\n",
        "    db.add_image(f\"{file}\", 1)\n",
        "\n",
        "db.commit()"
      ]
    },
    {
      "cell_type": "code",
      "execution_count": 8,
      "metadata": {},
      "outputs": [],
      "source": [
        "# add keypoints and descriptors\n",
        "\n",
        "kps_per_frame = [np.array([[y.pt[0], y.pt[1], y.size, y.angle] for y in x[0]], dtype=np.float32) for x in test.desc]\n",
        "desc_per_frame = [x[1] for x in test.desc]\n",
        "\n",
        "for i, frame_kps in enumerate(kps_per_frame):\n",
        "    db.add_keypoints(i+1, frame_kps)\n",
        "\n",
        "for i, frame_desc in enumerate(desc_per_frame):\n",
        "    db.add_descriptors(i+1, frame_desc)\n",
        "\n",
        "db.commit()\n"
      ]
    },
    {
      "cell_type": "code",
      "execution_count": 9,
      "metadata": {},
      "outputs": [],
      "source": [
        "# add matches and two view\n",
        "kps = [np.array([[y.pt[0], y.pt[1]] for y in x], dtype=np.float64) for x in test.kp]\n",
        "\n",
        "for i in matches.keys():\n",
        "    if isinstance(i, tuple):\n",
        "        m = np.array([[x.queryIdx,x.trainIdx] for x in matches[i]], dtype=np.uint32)\n",
        "        if len(m) > 0:\n",
        "            db.add_matches(i[0]+1, i[1]+1, m)\n",
        "            t_geo = pycolmap.estimate_calibrated_two_view_geometry(cam_obj, kps[i[0]], cam_obj, kps[i[1]], m).todict()\n",
        "            db.add_two_view_geometry(\n",
        "                image_id1 = i[0]+1, \n",
        "                image_id2 = i[1]+1, \n",
        "                matches = t_geo['inlier_matches'], \n",
        "                F = t_geo['F'], \n",
        "                E = t_geo['E'],\n",
        "                H = t_geo['H'],\n",
        "                config = t_geo['config'])\n",
        "\n",
        "\n",
        "db.commit()"
      ]
    },
    {
      "cell_type": "code",
      "execution_count": null,
      "metadata": {},
      "outputs": [],
      "source": [
        "\n",
        "# np.set_printoptions(threshold=sys.maxsize)\n",
        "f = db.execute(\"\"\"select count(*) from matches\"\"\")\n",
        "f.fetchall()\n",
        "# [np.array([y for y in x[1]]) for x in test.desc]\n",
        "# [x[1] for x in test.desc]\n",
        "# print([np.array([y.pt for y in x[0]], dtype=np.float32) for x in test.desc][0].tobytes())\n",
        "# print('\\n\\n\\n\\n\\n\\n\\n')\n",
        "# print(np.random.rand(2097, 2) * (504, 672))\n",
        "# [np.array([[y.pt[0], y.pt[1], y.size, y.angle] for y in x[0]], dtype=np.float32) for x in test.desc]\n",
        "\n",
        "# for i in test.desc:\n",
        "#     for j in i[0]:\n",
        "#         print(j.pt, j.size, j.angle)\n",
        "# test.output_match()\n",
        "# [np.array([[y.pt[0], y.pt[1]] for y in x], dtype=np.float32) for x in test.kp][0][0]\n",
        "np.empty((4, 2), dtype=np.float64).dtype"
      ]
    },
    {
      "cell_type": "code",
      "execution_count": 10,
      "metadata": {},
      "outputs": [],
      "source": [
        "db.close()"
      ]
    },
    {
      "cell_type": "code",
      "execution_count": null,
      "metadata": {},
      "outputs": [],
      "source": [
        "test.output_match()\n",
        "pycolmap.match"
      ]
    },
    {
      "cell_type": "code",
      "execution_count": 11,
      "metadata": {},
      "outputs": [],
      "source": [
        "maps = pycolmap.incremental_mapping(db_path, src, dest)\n",
        "maps[0].export_PLY(dest + \"/object.ply\")"
      ]
    }
  ],
  "metadata": {
    "kernelspec": {
      "display_name": "venv",
      "language": "python",
      "name": "python3"
    },
    "language_info": {
      "codemirror_mode": {
        "name": "ipython",
        "version": 3
      },
      "file_extension": ".py",
      "mimetype": "text/x-python",
      "name": "python",
      "nbconvert_exporter": "python",
      "pygments_lexer": "ipython3",
      "version": "3.11.4"
    }
  },
  "nbformat": 4,
  "nbformat_minor": 2
}
