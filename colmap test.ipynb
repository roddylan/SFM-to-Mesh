{
 "cells": [
  {
   "cell_type": "code",
   "execution_count": 1,
   "metadata": {},
   "outputs": [],
   "source": [
    "%reload_ext autoreload\n",
    "%autoreload 2\n",
    "from SFM import SFM\n",
    "import database\n",
    "import os, shutil, sys\n",
    "import pycolmap, platform\n",
    "import cv2\n",
    "import numpy as np\n",
    "import matplotlib.pyplot as plt"
   ]
  },
  {
   "cell_type": "code",
   "execution_count": 2,
   "metadata": {},
   "outputs": [],
   "source": [
    "src = \"datasets/templeRing\"\n",
    "dest = \"colmap_test_out\"\n",
    "db_path = \"test.db\"\n",
    "\n",
    "try:\n",
    "    os.mkdir(dest)\n",
    "except:\n",
    "    shutil.rmtree(dest)\n",
    "    os.mkdir(dest)"
   ]
  },
  {
   "cell_type": "code",
   "execution_count": 3,
   "metadata": {},
   "outputs": [
    {
     "name": "stderr",
     "output_type": "stream",
     "text": [
      "45.png: 100%|██████████| 46/46 [00:00<00:00, 105.60it/s]\n"
     ]
    },
    {
     "name": "stdout",
     "output_type": "stream",
     "text": [
      "\n",
      "\n",
      "FEATURE EXTRACTION....\n"
     ]
    },
    {
     "name": "stderr",
     "output_type": "stream",
     "text": [
      "Image 46: 100%|██████████| 46/46 [00:03<00:00, 13.77it/s]\n"
     ]
    },
    {
     "name": "stdout",
     "output_type": "stream",
     "text": [
      "\n",
      "MATCHING...\n",
      "\n"
     ]
    },
    {
     "name": "stderr",
     "output_type": "stream",
     "text": [
      "(44, 45): 100%|██████████| 45/45 [00:24<00:00,  1.86it/s]                         "
     ]
    },
    {
     "name": "stdout",
     "output_type": "stream",
     "text": [
      "Elapsed Time: 24.176403284072876\n",
      "\n",
      "\n"
     ]
    },
    {
     "name": "stderr",
     "output_type": "stream",
     "text": [
      "\n"
     ]
    }
   ],
   "source": [
    "test = SFM(src)\n",
    "test.ft_extract()\n",
    "matches = test.ft_match()"
   ]
  },
  {
   "cell_type": "code",
   "execution_count": 4,
   "metadata": {},
   "outputs": [],
   "source": [
    "db = database.COLMAPDatabase.connect(db_path)"
   ]
  },
  {
   "cell_type": "code",
   "execution_count": 5,
   "metadata": {},
   "outputs": [
    {
     "data": {
      "text/plain": [
       "<sqlite3.Cursor at 0x1af6e3af2c0>"
      ]
     },
     "execution_count": 5,
     "metadata": {},
     "output_type": "execute_result"
    }
   ],
   "source": [
    "db.create_tables()"
   ]
  },
  {
   "cell_type": "code",
   "execution_count": 6,
   "metadata": {},
   "outputs": [],
   "source": [
    "# add camera and images\n",
    "\n",
    "cam = db.add_camera(0, 504, 672, np.array([806.4, 252.0, 336.0]))\n",
    "\n",
    "for file in os.listdir(test.src):\n",
    "    db.add_image(f\"{file}\", 1)\n",
    "\n",
    "db.commit()"
   ]
  },
  {
   "cell_type": "code",
   "execution_count": 7,
   "metadata": {},
   "outputs": [],
   "source": [
    "# add keypoints and descriptors\n",
    "\n",
    "kps_per_frame = [np.array([[y.pt[0], y.pt[1], y.size, y.angle] for y in x[0]], dtype=np.float32) for x in test.desc]\n",
    "desc_per_frame = [x[1] for x in test.desc]\n",
    "\n",
    "for i, frame_kps in enumerate(kps_per_frame):\n",
    "    db.add_keypoints(i+1, frame_kps)\n",
    "\n",
    "for i, frame_desc in enumerate(desc_per_frame):\n",
    "    db.add_descriptors(i+1, frame_desc)\n",
    "\n",
    "db.commit()\n"
   ]
  },
  {
   "cell_type": "code",
   "execution_count": 10,
   "metadata": {},
   "outputs": [],
   "source": [
    "# add matches\n",
    "\n",
    "for i in matches.keys():\n",
    "    if isinstance(i, tuple):\n",
    "        m = np.array([[x.queryIdx,x.trainIdx] for x in matches[i]], dtype=np.uint32)\n",
    "        if len(m) > 0:\n",
    "            db.add_matches(i[0]+1, i[1]+1, m)\n",
    "\n",
    "db.commit()"
   ]
  },
  {
   "cell_type": "code",
   "execution_count": 11,
   "metadata": {},
   "outputs": [
    {
     "data": {
      "text/plain": [
       "[(201,)]"
      ]
     },
     "execution_count": 11,
     "metadata": {},
     "output_type": "execute_result"
    }
   ],
   "source": [
    "\n",
    "# np.set_printoptions(threshold=sys.maxsize)\n",
    "f = db.execute(\"\"\"select count(*) from matches\"\"\")\n",
    "f.fetchall()\n",
    "# [np.array([y for y in x[1]]) for x in test.desc]\n",
    "# [x[1] for x in test.desc]\n",
    "# print([np.array([y.pt for y in x[0]], dtype=np.float32) for x in test.desc][0].tobytes())\n",
    "# print('\\n\\n\\n\\n\\n\\n\\n')\n",
    "# print(np.random.rand(2097, 2) * (504, 672))\n",
    "# [np.array([[y.pt[0], y.pt[1], y.size, y.angle] for y in x[0]], dtype=np.float32) for x in test.desc]\n",
    "\n",
    "# for i in test.desc:\n",
    "#     for j in i[0]:\n",
    "#         print(j.pt, j.size, j.angle)\n",
    "# test.output_match()"
   ]
  },
  {
   "cell_type": "code",
   "execution_count": null,
   "metadata": {},
   "outputs": [],
   "source": [
    "db.close()"
   ]
  },
  {
   "cell_type": "code",
   "execution_count": 9,
   "metadata": {},
   "outputs": [],
   "source": [
    "test.output_match()\n",
    "pycolmap.match"
   ]
  },
  {
   "cell_type": "code",
   "execution_count": null,
   "metadata": {},
   "outputs": [],
   "source": [
    "maps = pycolmap.incremental_mapping(db_path, src, dest)\n",
    "maps[0].export_PLY(dest + \"object.ply\")"
   ]
  }
 ],
 "metadata": {
  "kernelspec": {
   "display_name": "venv",
   "language": "python",
   "name": "python3"
  },
  "language_info": {
   "codemirror_mode": {
    "name": "ipython",
    "version": 3
   },
   "file_extension": ".py",
   "mimetype": "text/x-python",
   "name": "python",
   "nbconvert_exporter": "python",
   "pygments_lexer": "ipython3",
   "version": "3.11.4"
  }
 },
 "nbformat": 4,
 "nbformat_minor": 2
}
