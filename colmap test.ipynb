{
 "cells": [
  {
   "cell_type": "code",
   "execution_count": 46,
   "metadata": {},
   "outputs": [],
   "source": [
    "%reload_ext autoreload\n",
    "%autoreload 2\n",
    "from SFM import SFM\n",
    "import os, shutil\n",
    "import pycolmap, platform\n",
    "import cv2\n",
    "import numpy as np\n",
    "import matplotlib.pyplot as plt"
   ]
  },
  {
   "cell_type": "code",
   "execution_count": null,
   "metadata": {},
   "outputs": [],
   "source": []
  },
  {
   "cell_type": "code",
   "execution_count": 2,
   "metadata": {},
   "outputs": [],
   "source": [
    "src = \"datasets/templeRing\"\n",
    "dest = \"colmap_test_out\"\n",
    "try:\n",
    "    os.mkdir(dest)\n",
    "except:\n",
    "    shutil.rmtree(dest)\n",
    "    os.mkdir(dest)"
   ]
  },
  {
   "cell_type": "code",
   "execution_count": 3,
   "metadata": {},
   "outputs": [
    {
     "name": "stderr",
     "output_type": "stream",
     "text": [
      "00.png:   0%|          | 0/49 [00:00<?, ?it/s]"
     ]
    },
    {
     "name": "stderr",
     "output_type": "stream",
     "text": [
      "templeR_par.txt: 100%|██████████| 49/49 [00:00<00:00, 91.31it/s]\n"
     ]
    },
    {
     "name": "stdout",
     "output_type": "stream",
     "text": [
      "README.txt is not an img...\n",
      "\n",
      "templeR_ang.txt is not an img...\n",
      "\n",
      "templeR_par.txt is not an img...\n",
      "\n"
     ]
    }
   ],
   "source": [
    "test = SFM(src)"
   ]
  },
  {
   "cell_type": "code",
   "execution_count": 4,
   "metadata": {},
   "outputs": [
    {
     "name": "stdout",
     "output_type": "stream",
     "text": [
      "\n",
      "\n",
      "FEATURE EXTRACTION....\n"
     ]
    },
    {
     "name": "stderr",
     "output_type": "stream",
     "text": [
      "Image 46: 100%|██████████| 46/46 [00:03<00:00, 14.10it/s]\n"
     ]
    },
    {
     "name": "stdout",
     "output_type": "stream",
     "text": [
      "\n",
      "MATCHING...\n",
      "\n"
     ]
    },
    {
     "name": "stderr",
     "output_type": "stream",
     "text": [
      "(44, 45): 100%|██████████| 45/45 [00:22<00:00,  2.01it/s]                         "
     ]
    },
    {
     "name": "stdout",
     "output_type": "stream",
     "text": [
      "Elapsed Time: 22.445398092269897\n",
      "\n",
      "\n"
     ]
    },
    {
     "name": "stderr",
     "output_type": "stream",
     "text": [
      "\n"
     ]
    }
   ],
   "source": [
    "test.ft_extract()\n",
    "matches = test.ft_match()"
   ]
  },
  {
   "cell_type": "code",
   "execution_count": 32,
   "metadata": {},
   "outputs": [
    {
     "data": {
      "text/plain": [
       "'x y 4 52 134 111 134 134 68 15 22 4 38 134 134 21 11 29 7 6 29 94 41 13 7 6 2 8 14 16 20 16 6 2 21 72 134 97 108 39 6 16 5 12 29 106 123 38 15 5 10 17 20 26 31 30 15 8 2 9 13 21 26 20 3 2 41 12 19 64 71 13 7 25 9 19 29 72 84 31 10 10 11 21 32 36 41 31 11 7 1 5 19 33 27 14 2 1 20 7 22 71 65 8 3 8 3 7 28 62 35 5 1 1 2 20 33 31 19 15 5 1 1 4 16 20 13 11 7 2'"
      ]
     },
     "execution_count": 32,
     "metadata": {},
     "output_type": "execute_result"
    }
   ],
   "source": [
    "d = test.desc\n",
    "\n",
    "dd = d[0][1][0].astype(np.int64).flatten()\n",
    "\n",
    "temp = ' '.join([f\"{num}\" for num in dd])\n",
    "\n",
    "f'x y {temp}'"
   ]
  },
  {
   "cell_type": "code",
   "execution_count": 59,
   "metadata": {},
   "outputs": [
    {
     "data": {
      "text/plain": [
       "< cv2.DMatch 0x288497410>"
      ]
     },
     "execution_count": 59,
     "metadata": {},
     "output_type": "execute_result"
    }
   ],
   "source": [
    "matches[(1,2)][0]"
   ]
  },
  {
   "cell_type": "code",
   "execution_count": 51,
   "metadata": {},
   "outputs": [
    {
     "name": "stdout",
     "output_type": "stream",
     "text": [
      "no\n"
     ]
    }
   ],
   "source": [
    "# plt.imshow(test.adj_list()[0])\n",
    "if not test.matches[(10,10)]:\n",
    "    print(\"no\")"
   ]
  },
  {
   "cell_type": "code",
   "execution_count": null,
   "metadata": {},
   "outputs": [],
   "source": [
    "cv2.DMatch.trainIdx"
   ]
  },
  {
   "cell_type": "code",
   "execution_count": 63,
   "metadata": {},
   "outputs": [],
   "source": [
    "def output_ft(sfm: SFM, desc: tuple, dest, i):\n",
    "    if platform.system() == \"Windows\":\n",
    "        path = f\"{dest}\\\\features\"\n",
    "    else:\n",
    "        path = f\"{dest}/features\"\n",
    "    if i == 0:\n",
    "        try:\n",
    "            os.mkdir(path)\n",
    "        except:\n",
    "            shutil.rmtree(path)\n",
    "            os.mkdir(path)\n",
    "\n",
    "    im = sfm.itoimg[i]\n",
    "    if platform.system() == \"Windows\":\n",
    "        f = open(f\"{path}\\\\{im}.txt\", \"w+\")\n",
    "    else:\n",
    "        f = open(f\"{path}/{im}.txt\", \"w+\")\n",
    "\n",
    "    n_ft = desc[i][1].shape[0]\n",
    "    text = f\"{n_ft} 128\"\n",
    "\n",
    "    for j in range(n_ft):\n",
    "        x = desc[i][0][j].pt[0]\n",
    "        y = desc[i][0][j].pt[1]\n",
    "        scale = desc[i][0][j].size\n",
    "        orientation = desc[i][0][j].angle\n",
    "\n",
    "        D = desc[i][1][j].astype(np.int64).flatten()\n",
    "        D_txt = ' '.join([f\"{d}\" for d in D])\n",
    "        cur = f\"\\n{x} {y} {scale} {orientation} {D_txt}\"\n",
    "        text += cur\n",
    "    \n",
    "    f.write(text)\n",
    "    f.close()\n",
    "\n",
    "\n",
    "\n",
    "def output_match(sfm: SFM, desc: tuple, dest):\n",
    "    if platform.system() == \"Windows\":\n",
    "        path = f\"{dest}\\\\matches\"\n",
    "    else:\n",
    "        path = f\"{dest}/matches\"\n",
    "    \n",
    "    try:\n",
    "        os.mkdir(path)\n",
    "    except:\n",
    "        shutil.rmtree(path)\n",
    "        os.mkdir(path)\n",
    "\n",
    "    if platform.system() == \"Windows\":\n",
    "        f = open(f\"{path}\\\\match.txt\", \"w+\")\n",
    "    else:\n",
    "        f = open(f\"{path}/match.txt\", \"w+\")\n",
    "\n",
    "    text = \"\"\n",
    "    for i in range(sfm.n - 1):\n",
    "        for j in range(i+1, sfm.n):\n",
    "            if not sfm.good[(i, j)]:\n",
    "                continue\n",
    "                \n",
    "            im1 = sfm.itoimg[i]\n",
    "            im2 = sfm.itoimg[j]\n",
    "\n",
    "            cur = f\"{im1} {im2}\"\n",
    "\n",
    "            for m in sfm.good[(i,j)]:\n",
    "                q = m.queryIdx\n",
    "                t = m.trainIdx\n",
    "                cur += f\"\\n{q} {t}\"\n",
    "            cur += f\"\\n\\n\"\n",
    "            text += cur\n",
    "            \n",
    "\n",
    "\n",
    "    f.write(text)\n",
    "    f.close()\n",
    "\n",
    "    \n",
    "    \n"
   ]
  },
  {
   "cell_type": "code",
   "execution_count": 64,
   "metadata": {},
   "outputs": [],
   "source": [
    "output_match(test, test.desc, dest)"
   ]
  },
  {
   "cell_type": "code",
   "execution_count": 61,
   "metadata": {},
   "outputs": [
    {
     "ename": "UnboundLocalError",
     "evalue": "local variable 'i' referenced before assignment",
     "output_type": "error",
     "traceback": [
      "\u001b[0;31m---------------------------------------------------------------------------\u001b[0m",
      "\u001b[0;31mUnboundLocalError\u001b[0m                         Traceback (most recent call last)",
      "Cell \u001b[0;32mIn[61], line 4\u001b[0m\n\u001b[1;32m      1\u001b[0m \u001b[38;5;28;01mfor\u001b[39;00m i \u001b[38;5;129;01min\u001b[39;00m \u001b[38;5;28mrange\u001b[39m(test\u001b[38;5;241m.\u001b[39mn):\n\u001b[1;32m      2\u001b[0m     output_ft(test, test\u001b[38;5;241m.\u001b[39mdesc, dest, i)\n\u001b[0;32m----> 4\u001b[0m \u001b[43moutput_match\u001b[49m\u001b[43m(\u001b[49m\u001b[43mtest\u001b[49m\u001b[43m,\u001b[49m\u001b[43m \u001b[49m\u001b[43mtest\u001b[49m\u001b[38;5;241;43m.\u001b[39;49m\u001b[43mdesc\u001b[49m\u001b[43m,\u001b[49m\u001b[43m \u001b[49m\u001b[43mdest\u001b[49m\u001b[43m)\u001b[49m\n",
      "Cell \u001b[0;32mIn[60], line 43\u001b[0m, in \u001b[0;36moutput_match\u001b[0;34m(sfm, desc, dest)\u001b[0m\n\u001b[1;32m     41\u001b[0m \u001b[38;5;28;01melse\u001b[39;00m:\n\u001b[1;32m     42\u001b[0m     path \u001b[38;5;241m=\u001b[39m \u001b[38;5;124mf\u001b[39m\u001b[38;5;124m\"\u001b[39m\u001b[38;5;132;01m{\u001b[39;00mdest\u001b[38;5;132;01m}\u001b[39;00m\u001b[38;5;124m/matches\u001b[39m\u001b[38;5;124m\"\u001b[39m\n\u001b[0;32m---> 43\u001b[0m \u001b[38;5;28;01mif\u001b[39;00m \u001b[43mi\u001b[49m \u001b[38;5;241m==\u001b[39m \u001b[38;5;241m0\u001b[39m:\n\u001b[1;32m     44\u001b[0m     \u001b[38;5;28;01mtry\u001b[39;00m:\n\u001b[1;32m     45\u001b[0m         os\u001b[38;5;241m.\u001b[39mmkdir(path)\n",
      "\u001b[0;31mUnboundLocalError\u001b[0m: local variable 'i' referenced before assignment"
     ]
    }
   ],
   "source": [
    "for i in range(test.n):\n",
    "    output_ft(test, test.desc, dest, i)\n",
    "\n"
   ]
  }
 ],
 "metadata": {
  "kernelspec": {
   "display_name": "venv",
   "language": "python",
   "name": "python3"
  },
  "language_info": {
   "codemirror_mode": {
    "name": "ipython",
    "version": 3
   },
   "file_extension": ".py",
   "mimetype": "text/x-python",
   "name": "python",
   "nbconvert_exporter": "python",
   "pygments_lexer": "ipython3",
   "version": "3.10.0"
  }
 },
 "nbformat": 4,
 "nbformat_minor": 2
}
